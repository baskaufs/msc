{
 "cells": [
  {
   "cell_type": "markdown",
   "metadata": {},
   "source": [
    "# Function definition and module import"
   ]
  },
  {
   "cell_type": "code",
   "execution_count": null,
   "metadata": {},
   "outputs": [],
   "source": [
    "import requests\n",
    "import json\n",
    "import csv\n",
    "from time import sleep\n",
    "import pandas as pd\n",
    "\n",
    "endpoint = 'https://sparql.vanderbilt.edu/sparql'\n",
    "user_agent_header = 'test/0.1 (https://github.com/HeardLibrary/linked-data/; mailto:steve.baskauf@vanderbilt.edu)'\n",
    "\n",
    "sparql_request_header = {\n",
    "        'Accept' : 'application/json',\n",
    "#        'Content-Type': 'application/sparql-query',\n",
    "        'Content-Type': 'application/x-www-form-urlencoded',\n",
    "        'User-Agent': user_agent_header\n",
    "    }\n",
    "\n",
    "# Low level functions\n",
    "\n",
    "def send_sparql_query(query_string, endpoint):\n",
    "    \"\"\"Sends a SPARQL query to an endpoint URL. Argument is the query string, returns a list of results.\"\"\"\n",
    "    # You can delete the two print statements if the queries are short. However, for large/long queries,\n",
    "    # it's good to let the user know what's going on.\n",
    "    #print('querying SPARQL endpoint to acquire item metadata')\n",
    "    response = requests.get(endpoint, params={'query' : query_string}, headers=sparql_request_header)\n",
    "    #response = requests.post(endpoint, data=query_string.encode('utf-8'), headers=sparql_request_header)\n",
    "    #response = requests.post(endpoint, data=dict(query=query_string), headers=sparql_request_header)\n",
    "    #print(response.text) # uncomment to view the raw response, e.g. if you are getting an error\n",
    "    try:\n",
    "        data = response.json()\n",
    "    except:\n",
    "        print(response.text)\n",
    "\n",
    "    # Extract the values from the response JSON\n",
    "    results = data['results']['bindings']\n",
    "    \n",
    "    #print('done retrieving data')\n",
    "    #print(json.dumps(results, indent=2))\n",
    "    \n",
    "    return results\n",
    "\n",
    "def extract_local_name(iri):\n",
    "    \"\"\"Extracts the local name part of an IRI, e.g. a qNumber from a Wikidata IRI. Argument is the IRI, returns the local name string.\"\"\"\n",
    "    # pattern is http://www.wikidata.org/entity/Q6386232\n",
    "    pieces = iri.split('/')\n",
    "    last_piece = len(pieces)\n",
    "    return pieces[last_piece - 1]\n",
    "\n",
    "# Write list of dictionaries to a CSV file\n",
    "def write_dicts_to_csv(table, filename, fieldnames):\n",
    "    with open(filename, 'w', newline='', encoding='utf-8') as csv_file_object:\n",
    "        writer = csv.DictWriter(csv_file_object, fieldnames=fieldnames)\n",
    "        writer.writeheader()\n",
    "        for row in table:\n",
    "            writer.writerow(row)\n",
    "\n",
    "# Read from a CSV file into a list of dictionaries\n",
    "def read_dicts_from_csv(filename):\n",
    "    with open(filename, 'r', newline='', encoding='utf-8') as file_object:\n",
    "        dict_object = csv.DictReader(file_object)\n",
    "        array = []\n",
    "        for row in dict_object:\n",
    "            array.append(row)\n",
    "    return array\n"
   ]
  },
  {
   "cell_type": "markdown",
   "metadata": {},
   "source": [
    "# Download standard views used in Bioimages images\n",
    "\n",
    "These are the standard views defined by Baskauf and Kirchoff (2008) and expressed as RDF at http://bioimages.vanderbilt.edu/rdf/stdview.rdf\n",
    "\n",
    "The code performs a SPARQL query and outputs the view IRIs and labels into a CSV spreadsheet."
   ]
  },
  {
   "cell_type": "code",
   "execution_count": null,
   "metadata": {},
   "outputs": [],
   "source": [
    "query_string = '''prefix dcterms: <http://purl.org/dc/terms/>\n",
    "prefix dctype: <http://purl.org/dc/dcmitype/>\n",
    "prefix Iptc4xmpExt: <http://iptc.org/std/Iptc4xmpExt/2008-02-29/>\n",
    "prefix skos: <http://www.w3.org/2004/02/skos/core#>\n",
    "select distinct ?cvterm ?partTerm ?partLabel ?viewLabel\n",
    "from <http://bioimages.vanderbilt.edu/rdf/stdview>\n",
    "from <http://bioimages.vanderbilt.edu/images>\n",
    "where {\n",
    "  ?image a dctype:StillImage.\n",
    "  ?image Iptc4xmpExt:CVterm ?cvterm.\n",
    "  ?cvterm skos:broader ?partTerm.\n",
    "  ?partTerm skos:prefLabel ?partLabel.\n",
    "  ?cvterm skos:prefLabel ?viewLabel.\n",
    "  }\n",
    "order by ?partLabel\n",
    "'''\n",
    "\n",
    "results = send_sparql_query(query_string, endpoint)\n",
    "\n",
    "stdview_list = []\n",
    "for result in results:\n",
    "    stdview_dict = {}\n",
    "    stdview_dict['iri'] = result['cvterm']['value']\n",
    "    stdview_dict['part_label'] = result['partLabel']['value']\n",
    "    stdview_dict['view_label'] = result['viewLabel']['value']\n",
    "    stdview_list.append(stdview_dict)\n",
    "    \n",
    "#print(json.dumps(stdview_list, indent=2))\n",
    "write_dicts_to_csv(stdview_list, 'stdviews_table.csv', ['iri', 'part_label', 'view_label'])\n",
    "print('done')\n"
   ]
  },
  {
   "cell_type": "markdown",
   "metadata": {},
   "source": [
    "# Apply mappings from standard views to AC views\n",
    "\n",
    "After downloading the standard views into a CSV, columns were added to map the view IRIs to subjectPartLiteral and subjectOrientationLiteral values. \n",
    "\n",
    "The IRIs from the manual test data set were used to query the Bioimages RDF using SPARQL to find their view IRIs and then the mappings were applied to generate the AC views."
   ]
  },
  {
   "cell_type": "code",
   "execution_count": null,
   "metadata": {},
   "outputs": [],
   "source": [
    "test_set = pd.read_csv('bioimages_images.csv', na_filter=False, dtype = str)\n",
    "mapping_table = pd.read_csv('stdviews_table.csv', na_filter=False, dtype = str)\n",
    "#mapping_table.set_index('iri', inplace=True)\n",
    "mapping_table.head()"
   ]
  },
  {
   "cell_type": "code",
   "execution_count": null,
   "metadata": {},
   "outputs": [],
   "source": [
    "image_list = list(test_set['image_iri'])\n",
    "image_list_text = '<' + '>\\n<'.join(image_list) + '>'\n",
    "#print(image_list_text)\n",
    "\n",
    "query_string = '''prefix Iptc4xmpExt: <http://iptc.org/std/Iptc4xmpExt/2008-02-29/>\n",
    "select distinct ?image ?cvterm\n",
    "from <http://bioimages.vanderbilt.edu/images>\n",
    "where {\n",
    "values ?image {\n",
    "''' + image_list_text + '''\n",
    "}\n",
    "  ?image Iptc4xmpExt:CVterm ?cvterm.\n",
    "  }\n",
    "'''\n",
    "#print(query_string)\n",
    "\n",
    "results = send_sparql_query(query_string, endpoint)\n",
    "#print(json.dumps(results, indent=2))\n"
   ]
  },
  {
   "cell_type": "code",
   "execution_count": null,
   "metadata": {},
   "outputs": [],
   "source": [
    "output_list = []\n",
    "for result in results:\n",
    "    image_iri = result['image']['value']\n",
    "    cvterm_iri = result['cvterm']['value']\n",
    "    image_dict = {'image_iri': image_iri}\n",
    "\n",
    "    # Look up the subject orientation based on the CVterm IRI retrieved by the SPARQL query\n",
    "    # The .loc results in a series with a single item, so turn it into a list and get list item 0\n",
    "    image_dict['subjectPartMap'] = list(mapping_table.loc[mapping_table.iri == cvterm_iri, 'subjectPart_cv_string'])[0]\n",
    "    image_dict['subjectOrientationMap'] = list(mapping_table.loc[mapping_table.iri == cvterm_iri, 'subjectOrientation_cv_string'])[0]\n",
    "    \n",
    "    # Find the values that were used in the human test\n",
    "    image_dict['subjectPartHuman'] = list(test_set.loc[test_set.image_iri == image_iri, 'ac:subjectPartLiteral'])[0]\n",
    "    image_dict['subjectOrientationHuman'] = list(test_set.loc[test_set.image_iri == image_iri, 'ac:subjectOrientationLiteral'])[0]\n",
    "    output_list.append(image_dict)\n",
    "\n",
    "#print(json.dumps(output_list, indent=0))\n",
    "fieldnames = ['image_iri', 'subjectPartHuman', 'subjectPartMap', 'subjectOrientationHuman', 'subjectOrientationMap']\n",
    "write_dicts_to_csv(output_list, 'mapping_test.csv', fieldnames)\n",
    "\n",
    "print('done')"
   ]
  },
  {
   "cell_type": "code",
   "execution_count": null,
   "metadata": {},
   "outputs": [],
   "source": []
  }
 ],
 "metadata": {
  "kernelspec": {
   "display_name": "Python 3",
   "language": "python",
   "name": "python3"
  },
  "language_info": {
   "codemirror_mode": {
    "name": "ipython",
    "version": 3
   },
   "file_extension": ".py",
   "mimetype": "text/x-python",
   "name": "python",
   "nbconvert_exporter": "python",
   "pygments_lexer": "ipython3",
   "version": "3.8.5"
  }
 },
 "nbformat": 4,
 "nbformat_minor": 4
}
