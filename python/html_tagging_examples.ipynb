{
 "cells": [
  {
   "cell_type": "code",
   "execution_count": 1,
   "metadata": {},
   "outputs": [],
   "source": [
    "import re\n",
    "\n",
    "def createLinks(text):\n",
    "    def repl(match):\n",
    "        if match.group(1)[-1] == '.':\n",
    "            return '<a href=\"' + match.group(1)[:-1] + '\">' + match.group(1)[:-1] + '</a>.'\n",
    "        return '<a href=\"' + match.group(1) + '\">' + match.group(1) + '</a>'\n",
    "\n",
    "    pattern = '(https?://[^\\s,;\\)\"<]*)'\n",
    "    result = re.sub(pattern, repl, text)\n",
    "    return result\n",
    "\n",
    "# 2021-08-05 Replace the createLinks() function with functions copied from the QRG build script written by S. Van Hoey\n",
    "def convert_code(text_with_backticks):\n",
    "    \"\"\"Takes all back-quoted sections in a text field and converts it to\n",
    "    the html tagged version of code blocks <code>...</code>\n",
    "    \"\"\"\n",
    "    return re.sub(r'`([^`]*)`', r'<code>\\1</code>', text_with_backticks)\n",
    "\n",
    "# 2021-08-06 Discovered when using this with Audubon Core list of terms build script that it does not\n",
    "# correctly handle trailing commas that follow a URL. I don't understand the regex well enough to fix it\n",
    "def convert_link(text_with_urls):\n",
    "    \"\"\"Takes all links in a text field and converts it to the html tagged\n",
    "    version of the link\n",
    "    \"\"\"\n",
    "    def _handle_matched(inputstring):\n",
    "        \"\"\"quick hack version of url handling on the current prime versions data\"\"\"\n",
    "        url = inputstring.group()\n",
    "        return \"<a href=\\\"{}\\\">{}</a>\".format(url, url)\n",
    "\n",
    "    regx = \"(http[s]?://[\\w\\d:#@%/;$()~_?\\+-;=\\\\\\.&]*)(?<![\\)\\.])\"\n",
    "    return re.sub(regx, _handle_matched, text_with_urls)\n"
   ]
  },
  {
   "cell_type": "code",
   "execution_count": 4,
   "metadata": {},
   "outputs": [
    {
     "name": "stdout",
     "output_type": "stream",
     "text": [
      "<code><a href=\"https://doi.org/10.1016/S0269-915X(97\">https://doi.org/10.1016/S0269-915X(97</a>)80026-2</code>\n",
      "<code><a href=\"https://doi.org/10.1016/S0269-915X(97)80026-2\">https://doi.org/10.1016/S0269-915X(97)80026-2</a></code>\n"
     ]
    }
   ],
   "source": [
    "right_paren_url = '`https://doi.org/10.1016/S0269-915X(97)80026-2`'\n",
    "print(createLinks(convert_code(right_paren_url)))\n",
    "print(convert_link(convert_code(right_paren_url)))"
   ]
  },
  {
   "cell_type": "code",
   "execution_count": 7,
   "metadata": {},
   "outputs": [
    {
     "name": "stdout",
     "output_type": "stream",
     "text": [
      "The date (often a range) that the resource became or will become available. The date and time MUST comply with the World Wide Web Consortium (W3C) datetime practice, <a href=\"https://www.w3.org/TR/NOTE-datetime\">https://www.w3.org/TR/NOTE-datetime</a>, which requires that date and time representation correspond to ISO 8601:1998, but with year fields always comprising 4 digits. This makes datetime records compliant with 8601:2004, <a href=\"https://www.iso.org/standard/40874.html\">https://www.iso.org/standard/40874.html</a>. AC datetime values MAY also follow 8601:2004 for ranges by separating two IS0 8601 datetime fields by a solidus (\"forward slash\", '/').\n",
      "\n",
      "The date (often a range) that the resource became or will become available. The date and time MUST comply with the World Wide Web Consortium (W3C) datetime practice, <a href=\"https://www.w3.org/TR/NOTE-datetime,\">https://www.w3.org/TR/NOTE-datetime,</a> which requires that date and time representation correspond to ISO 8601:1998, but with year fields always comprising 4 digits. This makes datetime records compliant with 8601:2004, <a href=\"https://www.iso.org/standard/40874.html\">https://www.iso.org/standard/40874.html</a>. AC datetime values MAY also follow 8601:2004 for ranges by separating two IS0 8601 datetime fields by a solidus (\"forward slash\", '/').\n"
     ]
    }
   ],
   "source": [
    "trailing_comma_text = '''The date (often a range) that the resource became or will become available. The date and time MUST comply with the World Wide Web Consortium (W3C) datetime practice, https://www.w3.org/TR/NOTE-datetime, which requires that date and time representation correspond to ISO 8601:1998, but with year fields always comprising 4 digits. This makes datetime records compliant with 8601:2004, https://www.iso.org/standard/40874.html. AC datetime values MAY also follow 8601:2004 for ranges by separating two IS0 8601 datetime fields by a solidus (\"forward slash\", '/').'''\n",
    "print(createLinks(convert_code(trailing_comma_text)))\n",
    "print()\n",
    "print(convert_link(convert_code(trailing_comma_text)))"
   ]
  },
  {
   "cell_type": "code",
   "execution_count": null,
   "metadata": {},
   "outputs": [],
   "source": []
  }
 ],
 "metadata": {
  "kernelspec": {
   "display_name": "Python 3",
   "language": "python",
   "name": "python3"
  },
  "language_info": {
   "codemirror_mode": {
    "name": "ipython",
    "version": 3
   },
   "file_extension": ".py",
   "mimetype": "text/x-python",
   "name": "python",
   "nbconvert_exporter": "python",
   "pygments_lexer": "ipython3",
   "version": "3.8.5"
  }
 },
 "nbformat": 4,
 "nbformat_minor": 4
}
