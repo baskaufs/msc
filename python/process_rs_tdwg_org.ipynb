{
 "cells": [
  {
   "cell_type": "markdown",
   "metadata": {},
   "source": [
    "# Initial setup\n",
    "\n",
    "Import modules"
   ]
  },
  {
   "cell_type": "code",
   "execution_count": 57,
   "metadata": {},
   "outputs": [],
   "source": [
    "import csv\n",
    "import sys\n",
    "import datetime"
   ]
  },
  {
   "cell_type": "markdown",
   "metadata": {},
   "source": [
    "Set variables for this run"
   ]
  },
  {
   "cell_type": "code",
   "execution_count": 58,
   "metadata": {},
   "outputs": [],
   "source": [
    "namespaceUri = 'http://rs.tdwg.org/ac/terms/'\n",
    "database = 'audubon'\n",
    "vocabulary = 'ac'\n",
    "namespace = 'terms'\n",
    "date_issued = '2019-09-30'\n",
    "local_offset_from_utc = '-05:00'\n",
    "versions = database + '-versions'\n",
    "modifications_filename = 'mods.csv'\n",
    "version_namespace = namespaceUri + 'version/'"
   ]
  },
  {
   "cell_type": "markdown",
   "metadata": {},
   "source": [
    "Define utility functions"
   ]
  },
  {
   "cell_type": "code",
   "execution_count": 59,
   "metadata": {},
   "outputs": [],
   "source": [
    "def readCsv(filename):\n",
    "    fileObject = open(filename, 'r', newline='', encoding='utf-8')\n",
    "    readerObject = csv.reader(fileObject)\n",
    "    array = []\n",
    "    for row in readerObject:\n",
    "        array.append(row)\n",
    "    fileObject.close()\n",
    "    return array\n",
    "\n",
    "def writeCsv(fileName, array):\n",
    "    fileObject = open(fileName, 'w', newline='', encoding='utf-8')\n",
    "    writerObject = csv.writer(fileObject)\n",
    "    for row in array:\n",
    "        writerObject.writerow(row)\n",
    "    fileObject.close()\n",
    "\n",
    "    # returns a list with first item Boolean and second item the index\n",
    "def findColumnWithHeader(header_row_list, header_label):\n",
    "    found = False\n",
    "    for column_number in range(0, len(header_row_list)):\n",
    "        if header_row_list[column_number] == header_label:\n",
    "            found = True\n",
    "            found_column = column_number\n",
    "    if found:\n",
    "        return [True, found_column]\n",
    "    else:\n",
    "        return [False, 0]\n",
    "    \n",
    "def isoTime(offset):\n",
    "    currentTime = datetime.datetime.now()\n",
    "    return currentTime.strftime(\"%Y-%m-%dT%H:%M:%S\") + offset"
   ]
  },
  {
   "cell_type": "markdown",
   "metadata": {},
   "source": [
    "# Extract information from metadata files\n",
    "\n",
    "**Note for all tables:** row 0 (the first row) is a header row.\n",
    "\n",
    "The table containing the **modifications** (term additions and changes) looks like this:\n",
    "\n",
    "![](mods-table.png)\n",
    "\n",
    "The `term_localName` column is the primary key for this table.\n",
    "\n",
    "The table containing **current terms metadata** looks like this:\n",
    "\n",
    "![](current-terms-table1.png)\n",
    "![](current-terms-table2.png)\n",
    "\n",
    "Notice that all of the column headers from `label` onwards to the right are the same. The column headers to the left of `label` are ideosyncratic for the table type and must be handled specially.  The `term_localName` column is the primary key for this table.\n",
    "\n",
    "The table containing **versions metadata** looks like this:\n",
    "\n",
    "![](versions-table1.png)\n",
    "![](versions-table2.png)\n",
    "\n",
    "As with the current terms table, all of the column headers from `label` onwards to the right are the same as the previous two tables. The column headers to the left of `label` are ideosyncratic for the table type and must be handled specially. The `versionLocalName` column is the primary key for this table.  The `term_localName` column is a foreign key that relates rows in this table to rows in the other two tables.  \n",
    "\n",
    "## Read in the tables of current terms and of modifications"
   ]
  },
  {
   "cell_type": "code",
   "execution_count": 60,
   "metadata": {},
   "outputs": [
    {
     "name": "stdout",
     "output_type": "stream",
     "text": [
      "Headers:  ['term_localName', 'label', 'rdfs_comment', 'skos_scopeNote', 'dcterms_description', 'rdf_type', 'tdwgutility_organizedInClass', 'tdwgutility_decision', 'tdwgutility_layer', 'tdwgutility_required', 'tdwgutility_repeatable']\n"
     ]
    }
   ],
   "source": [
    "term_metadata_filename = database + '/' + database + '.csv'\n",
    "term_metadata = readCsv(term_metadata_filename)\n",
    "\n",
    "modifications_metadata = readCsv(modifications_filename)\n",
    "print('Headers: ', modifications_metadata[0])"
   ]
  },
  {
   "cell_type": "markdown",
   "metadata": {},
   "source": [
    "The script loads data only on the basis of the column names and not their position.  So a number of variables are defined that hold the column numbers for various fields.  \n",
    "\n",
    "Find which column numbers in the modifications file and the metadata file hold the term local name.  This column is the primary key for the table and therefore is used to match rows for terms that need to be modified with the corresponding rows in the current term metadata table.  The `term_localName` column is the only one in the modifications table that is not potentially a vocabulary-specific metadata field."
   ]
  },
  {
   "cell_type": "code",
   "execution_count": 61,
   "metadata": {},
   "outputs": [],
   "source": [
    "result = findColumnWithHeader(modifications_metadata[0], 'term_localName')\n",
    "if result[0] == False:\n",
    "    print('The modifications file does not have a term_localName column')\n",
    "    sys.exit\n",
    "else:\n",
    "    mods_local_name = result[1]\n",
    "\n",
    "# don't error trap here because all existing files should have a local name column header\n",
    "result = findColumnWithHeader(term_metadata[0], 'term_localName')\n",
    "metadata_localname_column = result[1]"
   ]
  },
  {
   "cell_type": "markdown",
   "metadata": {},
   "source": [
    "Create a list of the local names of terms to be added or modified"
   ]
  },
  {
   "cell_type": "code",
   "execution_count": 62,
   "metadata": {},
   "outputs": [
    {
     "name": "stdout",
     "output_type": "stream",
     "text": [
      "['attributionLogoURL', 'captionA', 'captureDevice', 'commenter', 'commenterLiteral']\n"
     ]
    }
   ],
   "source": [
    "mods_term_localName = []\n",
    "for term_number in range(1, len(modifications_metadata)):\n",
    "    mods_term_localName.append(modifications_metadata[term_number][mods_local_name])\n",
    "print(mods_term_localName)"
   ]
  },
  {
   "cell_type": "markdown",
   "metadata": {},
   "source": [
    "Find out which terms are new terms and which are modified old terms.  Create a list for each."
   ]
  },
  {
   "cell_type": "code",
   "execution_count": 63,
   "metadata": {},
   "outputs": [
    {
     "name": "stdout",
     "output_type": "stream",
     "text": [
      "New terms:  ['captionA']\n",
      "Modified terms:  ['attributionLogoURL', 'captureDevice', 'commenter', 'commenterLiteral']\n"
     ]
    }
   ],
   "source": [
    "new_terms = []\n",
    "modified_terms = []\n",
    "for test_term in mods_term_localName:\n",
    "    found = False\n",
    "    for term in term_metadata:\n",
    "        if test_term == term[metadata_localname_column]:\n",
    "            found = True\n",
    "            modified_terms.append(test_term)\n",
    "    if not found:\n",
    "        new_terms.append(test_term)\n",
    "print('New terms: ', new_terms)\n",
    "print('Modified terms: ', modified_terms)"
   ]
  },
  {
   "cell_type": "markdown",
   "metadata": {},
   "source": [
    "# Load versions metadata and determine positions of special columns\n",
    "\n",
    "Read in the term versions metadata file"
   ]
  },
  {
   "cell_type": "code",
   "execution_count": 64,
   "metadata": {},
   "outputs": [
    {
     "name": "stdout",
     "output_type": "stream",
     "text": [
      "['document_modified', 'version', 'versionLocalName', 'version_isDefinedBy', 'version_issued', 'version_status', 'replaces_version', 'replaces1_version', 'replaces2_version', 'label', 'rdfs_comment', 'skos_scopeNote', 'dcterms_description', 'rdf_type', 'tdwgutility_organizedInClass', 'tdwgutility_decision', 'tdwgutility_layer', 'tdwgutility_required', 'tdwgutility_repeatable', 'term_localName']\n"
     ]
    }
   ],
   "source": [
    "term_versions_metadata_filename = versions + '/' + versions + '.csv'\n",
    "term_versions_metadata = readCsv(term_versions_metadata_filename)\n",
    "print(term_versions_metadata[0])"
   ]
  },
  {
   "cell_type": "markdown",
   "metadata": {},
   "source": [
    "Find the positions of the ideosyncratic version columns.  Recall:\n",
    "\n",
    "![](versions-table1.png)\n",
    "![](versions-table2.png)"
   ]
  },
  {
   "cell_type": "code",
   "execution_count": 65,
   "metadata": {},
   "outputs": [],
   "source": [
    "version_modified = findColumnWithHeader(term_versions_metadata[0], 'document_modified')[1]\n",
    "version_column = findColumnWithHeader(term_versions_metadata[0], 'version')[1]\n",
    "version_local_name = findColumnWithHeader(term_versions_metadata[0], 'versionLocalName')[1]\n",
    "version_isDefinedBy = findColumnWithHeader(term_versions_metadata[0], 'version_isDefinedBy')[1]\n",
    "version_issued = findColumnWithHeader(term_versions_metadata[0], 'version_issued')[1]\n",
    "version_status = findColumnWithHeader(term_versions_metadata[0], 'version_status')[1]\n",
    "version_term_local_name_column = findColumnWithHeader(term_versions_metadata[0], 'term_localName')[1]\n"
   ]
  },
  {
   "cell_type": "markdown",
   "metadata": {},
   "source": [
    "# Update the master versions table\n",
    "\n",
    "This is the primary metadata table for generating information about versions\n",
    "\n",
    "## Supersede old versions of the modified terms\n",
    "\n",
    "Go through each version and supersede any that match the local names of the modified terms"
   ]
  },
  {
   "cell_type": "code",
   "execution_count": 66,
   "metadata": {},
   "outputs": [
    {
     "name": "stdout",
     "output_type": "stream",
     "text": [
      "5 attributionLogoURL\n",
      "7 captureDevice\n",
      "8 commenter\n",
      "9 commenterLiteral\n"
     ]
    }
   ],
   "source": [
    "for term in modified_terms:\n",
    "    for version_row in range(1, len(term_versions_metadata)):\n",
    "        if term_versions_metadata[version_row][version_term_local_name_column] == term:\n",
    "            print(version_row, term)\n",
    "            term_versions_metadata[version_row][version_status] = 'superseded'\n",
    "            # the 0th column always contains the time modified value\n",
    "            term_versions_metadata[version_row][version_modified] = isoTime(local_offset_from_utc)"
   ]
  },
  {
   "cell_type": "markdown",
   "metadata": {},
   "source": [
    "## Create new versions of new and modified terms\n",
    "\n",
    "Make sure that all columns in modified terms file are in the term versions file"
   ]
  },
  {
   "cell_type": "code",
   "execution_count": 67,
   "metadata": {},
   "outputs": [],
   "source": [
    "for column in modifications_metadata[0]:\n",
    "    result = findColumnWithHeader(term_versions_metadata[0], column)\n",
    "    if result[0] == False:\n",
    "        print('The modifications file is missing the ', column, ' column.')\n",
    "        sys.exit"
   ]
  },
  {
   "cell_type": "markdown",
   "metadata": {},
   "source": [
    "Create new versions list"
   ]
  },
  {
   "cell_type": "code",
   "execution_count": 68,
   "metadata": {},
   "outputs": [],
   "source": [
    "newVersions = []"
   ]
  },
  {
   "cell_type": "markdown",
   "metadata": {},
   "source": [
    "Create a row in the new term versions list for the added or modified terms"
   ]
  },
  {
   "cell_type": "code",
   "execution_count": 69,
   "metadata": {
    "scrolled": true
   },
   "outputs": [],
   "source": [
    "for row_number in range(1, len(modifications_metadata)):\n",
    "    newVersion = []\n",
    "    # create a column for every column in the term version file\n",
    "    for column in term_versions_metadata[0]:\n",
    "        # find the column in the modifications file that matches the version column and add its value\n",
    "        result = findColumnWithHeader(modifications_metadata[0], column)\n",
    "        if result[0] == True:\n",
    "            newVersion.append(modifications_metadata[row_number][result[1]])\n",
    "        else:\n",
    "            newVersion.append('')\n",
    "    # set the modification dateTime for the newly created version\n",
    "    newVersion[version_modified] = isoTime(local_offset_from_utc)\n",
    "    newVersions.append(newVersion) "
   ]
  },
  {
   "cell_type": "markdown",
   "metadata": {},
   "source": [
    "Insert metadata specific to the new versions"
   ]
  },
  {
   "cell_type": "code",
   "execution_count": 70,
   "metadata": {
    "scrolled": true
   },
   "outputs": [],
   "source": [
    "for rowNumber in range(0, len(newVersions)):\n",
    "    newVersions[rowNumber][version_issued] = date_issued\n",
    "    newVersions[rowNumber][version_status] = 'recommended'\n",
    "    # need to add one to the row of modifications_metadata because it includes the header row\n",
    "    newVersions[rowNumber][version_local_name] = modifications_metadata[rowNumber + 1][mods_local_name] + '-' + date_issued\n",
    "    newVersions[rowNumber][version_isDefinedBy] = version_namespace\n",
    "    newVersions[rowNumber][version_column] = version_namespace + modifications_metadata[rowNumber + 1][mods_local_name] + '-' + date_issued\n"
   ]
  },
  {
   "cell_type": "markdown",
   "metadata": {},
   "source": [
    "Append the new versions to the old version file"
   ]
  },
  {
   "cell_type": "code",
   "execution_count": 71,
   "metadata": {},
   "outputs": [],
   "source": [
    "revised_term_versions_metadata = term_versions_metadata + newVersions\n",
    "writeCsv('temp_versions.csv', revised_term_versions_metadata)"
   ]
  },
  {
   "cell_type": "markdown",
   "metadata": {},
   "source": [
    "# Load current terms metadata and determine positions of special columns\n",
    "\n",
    "Read in the current term file"
   ]
  },
  {
   "cell_type": "code",
   "execution_count": 72,
   "metadata": {},
   "outputs": [
    {
     "name": "stdout",
     "output_type": "stream",
     "text": [
      "['document_modified', 'term_localName', 'term_isDefinedBy', 'term_created', 'term_modified', 'term_deprecated', 'replaces_term', 'replaces1_term', 'replaces2_term', 'label', 'rdfs_comment', 'skos_scopeNote', 'dcterms_description', 'rdf_type', 'tdwgutility_organizedInClass', 'tdwgutility_decision', 'tdwgutility_layer', 'tdwgutility_required', 'tdwgutility_repeatable']\n"
     ]
    }
   ],
   "source": [
    "terms_metadata_filename = database + '/' + database + '.csv'\n",
    "terms_metadata = readCsv(terms_metadata_filename)\n",
    "print(term_metadata[0])"
   ]
  },
  {
   "cell_type": "markdown",
   "metadata": {},
   "source": [
    "Find the positions of the ideosyncratic version columns. Recall:\n",
    "\n",
    "![](current-terms-table1.png)\n",
    "![](current-terms-table2.png)"
   ]
  },
  {
   "cell_type": "code",
   "execution_count": 73,
   "metadata": {},
   "outputs": [],
   "source": [
    "term_modified_dateTime = findColumnWithHeader(terms_metadata[0], 'document_modified')[1]\n",
    "term_localName = findColumnWithHeader(terms_metadata[0], 'term_localName')[1]\n",
    "term_modified = findColumnWithHeader(terms_metadata[0], 'term_modified')[1]\n",
    "term_created = findColumnWithHeader(terms_metadata[0], 'term_created')[1]\n",
    "term_isDefinedBy = findColumnWithHeader(terms_metadata[0], 'term_isDefinedBy')[1]"
   ]
  },
  {
   "cell_type": "markdown",
   "metadata": {},
   "source": [
    "# Modify current terms metadata table\n",
    "\n",
    "Each item in the term modifications list will either modify existing term metadata or add new term metadata"
   ]
  },
  {
   "cell_type": "code",
   "execution_count": 74,
   "metadata": {},
   "outputs": [
    {
     "name": "stdout",
     "output_type": "stream",
     "text": [
      "['2019-10-17T15:54:09-05:00', 'attributionLogoURL', 'http://rs.tdwg.org/ac/terms/', '2013-10-28', '2019-09-30', '', '', '', '', 'Attribution URL', 'Goofy new definition of Att URL', '', 'Entering this URL into a browser should only result in the icon (not in a webpage including the icon).', 'http://www.w3.org/1999/02/22-rdf-syntax-ns#Property', 'http://rs.tdwg.org/dwc/terms/attributes/Attribution', '', '1', 'No', 'No']\n",
      "['2019-10-17T15:54:09-05:00', 'captionA', 'http://rs.tdwg.org/ac/terms/', '2019-09-30', '2019-09-30', '', '', '', '', 'Caption', 'As alternative or in addition to description, a caption is free-form text to be displayed together with (rather than instead of) a resource that is suitable for captions (especially images).', '', 'If both description and caption are present in the metadata, a description is typically displayed instead of the resource, a caption together with the resource. Often only one of description or caption is present; choose the term most appropriate for your metadata.', 'http://www.w3.org/1999/02/22-rdf-syntax-ns#Property', 'http://rs.tdwg.org/dwc/terms/attributes/ContentCoverage', '', '2', 'No', 'No']\n",
      "['2019-10-17T15:54:09-05:00', 'captureDevice', 'http://rs.tdwg.org/ac/terms/', '2013-10-28', '2019-09-30', '', '', '', '', 'Capture Device', 'Free form text describing the device or devices used to create the resource.', '', 'Goofy  new description of capture device', 'http://www.w3.org/1999/02/22-rdf-syntax-ns#Property', 'http://rs.tdwg.org/dwc/terms/attributes/ResourceCreation', '', '2', 'No', 'No']\n",
      "['2019-10-17T15:54:09-05:00', 'commenter', 'http://rs.tdwg.org/ac/terms/', '2013-10-28', '2019-09-30', '', '', '', '', 'Commenter', 'A URI denoting a person, using some controlled vocabulary such as FOAF. Implementers and communities of practice may produce restrictions or recommendations on the choice of vocabularies.', '', 'See also Reviewer Comments for the distinction between Comments and Reviewer Comments. See also the entry for ac:commenterLiteral and the section Namespaces, Prefixes and Term Names in the Audubon Core Term List document for discussion of the rationale for separate terms taking URI values from those taking Literal values where both are possible. Normal practice is to use the same Label if both are provided. Labels have no effect on information discovery and are only suggestions.', 'http://www.w3.org/1999/02/22-rdf-syntax-ns#Property', 'http://rs.tdwg.org/dwc/terms/attributes/Management', '', '2', 'No', 'No']\n",
      "['2019-10-17T15:54:09-05:00', 'commenterLiteral', 'http://rs.tdwg.org/ac/terms/', '2013-10-28', '2019-09-30', '', '', '', '', 'Commenter', 'A name or the literal \"anonymous\" (= anonymously commented).', '', 'See also Reviewer Comments for the distinction between Comments and Reviewer Comments. See also the entry for ac:commenter and the section Namespaces, Prefixes and Term Names in the Audubon Core Term List document for discussion of the rationale for separate terms taking URI values from those taking Literal values where both are possible. Normal practice is to use the same Label if both are provided. Labels have no effect on information discovery and are only suggestions.', 'http://www.w3.org/1999/02/22-rdf-syntax-ns#Property', 'http://rs.tdwg.org/dwc/terms/attributes/Management', '', '2', 'No', 'No']\n"
     ]
    }
   ],
   "source": [
    "# step through each row in the modification metadata table and modify existing current terms when applicable\n",
    "for mods_rownumber in range(1, len(modifications_metadata)):\n",
    "    mods_localname_string = modifications_metadata[mods_rownumber][mods_local_name]\n",
    "    modified = False\n",
    "    for term_name in modified_terms:\n",
    "        # only make a modification if it's on the list of terms to be modified\n",
    "        if mods_localname_string == term_name:\n",
    "            modified = True\n",
    "    # this section of code modifies existing terms\n",
    "    if modified:\n",
    "        # find the row in the terms metadata file for the term to be modified\n",
    "        for term_rownumber in range(1, len(terms_metadata)):\n",
    "            if mods_localname_string == terms_metadata[term_rownumber][term_localName]:\n",
    "                terms_metadata[term_rownumber][term_modified_dateTime] = isoTime(local_offset_from_utc)\n",
    "                terms_metadata[term_rownumber][term_modified] = date_issued\n",
    "                # replace every column that's in the modifications metadata\n",
    "                for column_number in range(0, len(modifications_metadata[0])):\n",
    "                    # find the column in the current terms metadata table that matches the modifications column and replace the current term's value\n",
    "                    result = findColumnWithHeader(terms_metadata[0], modifications_metadata[0][column_number])\n",
    "                    if result[0] == True:\n",
    "                        terms_metadata[term_rownumber][result[1]] = modifications_metadata[mods_rownumber][column_number]\n",
    "                    else:\n",
    "                        pass # this shouldn't really happen since there already was a check that all columns existed in the versions table\n",
    "                print(terms_metadata[term_rownumber])\n",
    "    # this section of code adds new term metadata\n",
    "    else: \n",
    "        newTermRow = []\n",
    "        for column in range(0, len(terms_metadata[0])):\n",
    "            newTermRow.append('')\n",
    "        newTermRow[term_modified_dateTime] = isoTime(local_offset_from_utc)\n",
    "        newTermRow[term_modified] = date_issued\n",
    "        newTermRow[term_created] = date_issued\n",
    "        newTermRow[term_isDefinedBy] = namespaceUri\n",
    "        # replace every column that's in the modifications metadata\n",
    "        for column_number in range(0, len(modifications_metadata[0])):\n",
    "            # find the column in the current terms metadata table that matches the modifications column and replace the current term's value\n",
    "            result = findColumnWithHeader(terms_metadata[0], modifications_metadata[0][column_number])\n",
    "            if result[0] == True:\n",
    "                newTermRow[result[1]] = modifications_metadata[mods_rownumber][column_number]\n",
    "            else:\n",
    "                pass # this shouldn't really happen since there already was a check that all columns existed in the versions table\n",
    "        print(newTermRow)\n",
    "        terms_metadata.append(newTermRow)\n",
    "writeCsv('temp_terms.csv', terms_metadata)"
   ]
  },
  {
   "cell_type": "code",
   "execution_count": null,
   "metadata": {},
   "outputs": [],
   "source": []
  }
 ],
 "metadata": {
  "kernelspec": {
   "display_name": "Python 3",
   "language": "python",
   "name": "python3"
  },
  "language_info": {
   "codemirror_mode": {
    "name": "ipython",
    "version": 3
   },
   "file_extension": ".py",
   "mimetype": "text/x-python",
   "name": "python",
   "nbconvert_exporter": "python",
   "pygments_lexer": "ipython3",
   "version": "3.7.1"
  }
 },
 "nbformat": 4,
 "nbformat_minor": 2
}
