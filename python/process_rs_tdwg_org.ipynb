{
 "cells": [
  {
   "cell_type": "markdown",
   "metadata": {},
   "source": [
    "# Initial setup\n",
    "\n",
    "Import modules"
   ]
  },
  {
   "cell_type": "code",
   "execution_count": null,
   "metadata": {},
   "outputs": [],
   "source": [
    "import csv\n",
    "import sys\n",
    "import datetime"
   ]
  },
  {
   "cell_type": "markdown",
   "metadata": {},
   "source": [
    "Set variables for this run"
   ]
  },
  {
   "cell_type": "code",
   "execution_count": null,
   "metadata": {},
   "outputs": [],
   "source": [
    "namespaceUri = 'http://rs.tdwg.org/ac/terms/'\n",
    "database = 'audubon'\n",
    "vocabulary = 'ac'\n",
    "namespace = 'terms'\n",
    "date_issued = '2019-09-30'\n",
    "local_offset_from_utc = '-05:00'\n",
    "versions = database + '-versions'\n",
    "modifications = 'mods.csv'\n",
    "version_namespace = namespaceUri + 'version/'"
   ]
  },
  {
   "cell_type": "markdown",
   "metadata": {},
   "source": [
    "Define utility functions"
   ]
  },
  {
   "cell_type": "code",
   "execution_count": null,
   "metadata": {},
   "outputs": [],
   "source": [
    "def readCsv(filename):\n",
    "    fileObject = open(filename, 'r', newline='', encoding='utf-8')\n",
    "    readerObject = csv.reader(fileObject)\n",
    "    array = []\n",
    "    for row in readerObject:\n",
    "        array.append(row)\n",
    "    fileObject.close()\n",
    "    return array\n",
    "\n",
    "def writeCsv(fileName, array):\n",
    "    fileObject = open(fileName, 'w', newline='', encoding='utf-8')\n",
    "    writerObject = csv.writer(fileObject)\n",
    "    for row in array:\n",
    "        writerObject.writerow(row)\n",
    "    fileObject.close()\n",
    "\n",
    "    # returns a list with first item Boolean and second item the index\n",
    "def findColumnWithHeader(header_row_list, header_label):\n",
    "    found = False\n",
    "    for column_number in range(0, len(header_row_list)):\n",
    "        if header_row_list[column_number] == header_label:\n",
    "            found = True\n",
    "            found_column = column_number\n",
    "    if found:\n",
    "        return [True, found_column]\n",
    "    else:\n",
    "        return [False, 0]\n",
    "    \n",
    "def isoTime(offset):\n",
    "    currentTime = datetime.datetime.now()\n",
    "    return currentTime.strftime(\"%Y-%m-%dT%H:%M:%S\") + offset"
   ]
  },
  {
   "cell_type": "markdown",
   "metadata": {},
   "source": [
    "# Extract information from metadata files\n",
    "\n",
    "Read in the files to be compared. Note: row 0 contains the headers."
   ]
  },
  {
   "cell_type": "code",
   "execution_count": null,
   "metadata": {},
   "outputs": [],
   "source": [
    "term_metadata_filename = database + '/' + database + '.csv'\n",
    "term_metadata = readCsv(term_metadata_filename)\n",
    "\n",
    "modifications_metadata = readCsv(modifications)\n",
    "print('Headers: ', modifications_metadata[0])"
   ]
  },
  {
   "cell_type": "markdown",
   "metadata": {},
   "source": [
    "Find which column numbers in the modifications file and the metadata file hold the term local name"
   ]
  },
  {
   "cell_type": "code",
   "execution_count": null,
   "metadata": {},
   "outputs": [],
   "source": [
    "result = findColumnWithHeader(modifications_metadata[0], 'term_localName')\n",
    "if result[0] == False:\n",
    "    print('The modifications file does not have a term_localName column')\n",
    "    sys.exit\n",
    "else:\n",
    "    mods_localname_column = result[1]\n",
    "\n",
    "# don't error trap here because all existing files should have a local name column header\n",
    "result = findColumnWithHeader(term_metadata[0], 'term_localName')\n",
    "metadata_localname_column = result[1]"
   ]
  },
  {
   "cell_type": "markdown",
   "metadata": {},
   "source": [
    "Create a list of the local names of terms to be added or modified"
   ]
  },
  {
   "cell_type": "code",
   "execution_count": null,
   "metadata": {},
   "outputs": [],
   "source": [
    "mods_term_localName = []\n",
    "for term_number in range(1, len(modifications_metadata)):\n",
    "    mods_term_localName.append(modifications_metadata[term_number][mods_localname_column])\n",
    "print(mods_term_localName)"
   ]
  },
  {
   "cell_type": "markdown",
   "metadata": {},
   "source": [
    "Find out which terms are new and which are modified old terms"
   ]
  },
  {
   "cell_type": "code",
   "execution_count": null,
   "metadata": {},
   "outputs": [],
   "source": [
    "new_terms = []\n",
    "modified_terms = []\n",
    "for test_term in mods_term_localName:\n",
    "    found = False\n",
    "    for term in term_metadata:\n",
    "        if test_term == term[metadata_localname_column]:\n",
    "            found = True\n",
    "            modified_terms.append(test_term)\n",
    "    if not found:\n",
    "        new_terms.append(test_term)\n",
    "print('New terms: ', new_terms)\n",
    "print('Modified terms: ', modified_terms)"
   ]
  },
  {
   "cell_type": "markdown",
   "metadata": {},
   "source": [
    "# Supersede old versions of the modified terms\n",
    "\n",
    "Read in the term versions metadata file"
   ]
  },
  {
   "cell_type": "code",
   "execution_count": null,
   "metadata": {},
   "outputs": [],
   "source": [
    "term_versions_metadata_filename = versions + '/' + versions + '.csv'\n",
    "term_versions_metadata = readCsv(term_versions_metadata_filename)\n",
    "print(term_versions_metadata[0])"
   ]
  },
  {
   "cell_type": "markdown",
   "metadata": {},
   "source": [
    "Find the status and term local name columns"
   ]
  },
  {
   "cell_type": "code",
   "execution_count": null,
   "metadata": {},
   "outputs": [],
   "source": [
    "result = findColumnWithHeader(term_versions_metadata[0], 'version_status')\n",
    "status_column = result[1]\n",
    "\n",
    "result = findColumnWithHeader(term_versions_metadata[0], 'term_localName')\n",
    "term_local_name_column = result[1]"
   ]
  },
  {
   "cell_type": "markdown",
   "metadata": {},
   "source": [
    "Go through each version and supersede any that match the local names of the modified terms"
   ]
  },
  {
   "cell_type": "code",
   "execution_count": null,
   "metadata": {},
   "outputs": [],
   "source": [
    "for term in modified_terms:\n",
    "    for version_row in range(1, len(term_versions_metadata)):\n",
    "        if term_versions_metadata[version_row][term_local_name_column] == term:\n",
    "            print(version_row, term)\n",
    "            term_versions_metadata[version_row][status_column] = 'superseded'\n",
    "            # the 0th column always contains the time modified value\n",
    "            term_versions_metadata[version_row][0] = isoTime(local_offset_from_utc)"
   ]
  },
  {
   "cell_type": "markdown",
   "metadata": {},
   "source": [
    "# Create new versions of new and modified terms\n",
    "\n",
    "Make sure that all columns in modified terms file are in the term versions file"
   ]
  },
  {
   "cell_type": "code",
   "execution_count": null,
   "metadata": {},
   "outputs": [],
   "source": [
    "for column in modifications_metadata[0]:\n",
    "    result = findColumnWithHeader(term_versions_metadata[0], column)\n",
    "    if result[0] == False:\n",
    "        print('The modifications file is missing the ', column, ' column.')\n",
    "        sys.exit"
   ]
  },
  {
   "cell_type": "markdown",
   "metadata": {},
   "source": [
    "Create new versions list"
   ]
  },
  {
   "cell_type": "code",
   "execution_count": null,
   "metadata": {},
   "outputs": [],
   "source": [
    "newVersions = []"
   ]
  },
  {
   "cell_type": "markdown",
   "metadata": {},
   "source": [
    "Create a row in the new term versions list for the added or modified terms"
   ]
  },
  {
   "cell_type": "code",
   "execution_count": null,
   "metadata": {
    "scrolled": true
   },
   "outputs": [],
   "source": [
    "for row_number in range(1, len(modifications_metadata)):\n",
    "    newVersion = []\n",
    "    # create a column for every column in the term version file\n",
    "    for column in term_versions_metadata[0]:\n",
    "        # find the column in the modifications file that matches the version column and add its value\n",
    "        result = findColumnWithHeader(modifications_metadata[0], column)\n",
    "        if result[0] == True:\n",
    "            newVersion.append(modifications_metadata[row_number][result[1]])\n",
    "        else:\n",
    "            newVersion.append('')\n",
    "    newVersion[0] = isoTime(local_offset_from_utc)\n",
    "    newVersions.append(newVersion) "
   ]
  },
  {
   "cell_type": "markdown",
   "metadata": {},
   "source": [
    "Insert metadata specific to the new versions"
   ]
  },
  {
   "cell_type": "code",
   "execution_count": null,
   "metadata": {
    "scrolled": true
   },
   "outputs": [],
   "source": [
    "version_issued = findColumnWithHeader(term_versions_metadata[0], 'version_issued')\n",
    "version_status = findColumnWithHeader(term_versions_metadata[0], 'version_status')\n",
    "version_local_name = findColumnWithHeader(term_versions_metadata[0], 'versionLocalName')\n",
    "mods_local_name = findColumnWithHeader(modifications_metadata[0], 'term_localName')\n",
    "version_isDefinedBy = findColumnWithHeader(term_versions_metadata[0], 'version_isDefinedBy')\n",
    "version_column = findColumnWithHeader(term_versions_metadata[0], 'version')\n",
    "for rowNumber in range(0, len(newVersions)):\n",
    "    newVersions[rowNumber][version_issued[1]] = date_issued\n",
    "    newVersions[rowNumber][version_status[1]] = 'recommended'\n",
    "    # need to add one to the row of modifications_metadata because it includes the header row\n",
    "    newVersions[rowNumber][version_local_name[1]] = modifications_metadata[rowNumber + 1][mods_local_name[1]] + '-' + date_issued\n",
    "    newVersions[rowNumber][version_isDefinedBy[1]] = version_namespace\n",
    "    newVersions[rowNumber][version_column[1]] = version_namespace + modifications_metadata[rowNumber + 1][mods_local_name[1]] + '-' + date_issued\n"
   ]
  },
  {
   "cell_type": "markdown",
   "metadata": {},
   "source": [
    "Append the new versions to the old version file"
   ]
  },
  {
   "cell_type": "code",
   "execution_count": null,
   "metadata": {},
   "outputs": [],
   "source": [
    "revised_term_versions_metadata = term_versions_metadata + newVersions\n",
    "writeCsv('temp_versions.csv', revised_term_versions_metadata)"
   ]
  },
  {
   "cell_type": "markdown",
   "metadata": {},
   "source": [
    "# Create new and modified current terms\n",
    "\n",
    "Read in the current term file"
   ]
  },
  {
   "cell_type": "code",
   "execution_count": null,
   "metadata": {},
   "outputs": [],
   "source": [
    "terms_metadata_filename = database + '/' + database + '.csv'\n",
    "terms_metadata = readCsv(terms_metadata_filename)\n",
    "print(term_versions_metadata[0])"
   ]
  },
  {
   "cell_type": "markdown",
   "metadata": {},
   "source": [
    "Modify existing current terms"
   ]
  },
  {
   "cell_type": "code",
   "execution_count": null,
   "metadata": {},
   "outputs": [],
   "source": [
    "term_localName = findColumnWithHeader(terms_metadata[0], 'term_localName')\n",
    "term_modified = findColumnWithHeader(terms_metadata[0], 'term_modified')\n",
    "term_created = findColumnWithHeader(terms_metadata[0], 'term_created')\n",
    "term_isDefinedBy = findColumnWithHeader(terms_metadata[0], 'term_isDefinedBy')\n",
    "#print(terms_metadata[0])\n",
    "\n",
    "# step through each row in the modification metadata table and modify existing current terms when applicable\n",
    "for mods_rownumber in range(1, len(modifications_metadata)):\n",
    "    mods_localname_string = modifications_metadata[mods_rownumber][mods_local_name[1]]\n",
    "    modified = False\n",
    "    for term_name in modified_terms:\n",
    "        # only make a modification if it's on the list of terms to be modified\n",
    "        if mods_localname_string == term_name:\n",
    "            modified = True\n",
    "    # this section of code modifies existing terms\n",
    "    if modified:\n",
    "        # find the row in the terms metadata file for the term to be modified\n",
    "        for term_rownumber in range(1, len(terms_metadata)):\n",
    "            if mods_localname_string == terms_metadata[term_rownumber][term_localName[1]]:\n",
    "                terms_metadata[term_rownumber][0] = isoTime(local_offset_from_utc)\n",
    "                terms_metadata[term_rownumber][term_modified[1]] = date_issued\n",
    "                # replace every column that's in the modifications metadata\n",
    "                for column_number in range(0, len(modifications_metadata[0])):\n",
    "                    # find the column in the current terms metadata table that matches the modifications column and replace the current term's value\n",
    "                    result = findColumnWithHeader(terms_metadata[0], modifications_metadata[0][column_number])\n",
    "                    if result[0] == True:\n",
    "                        terms_metadata[term_rownumber][result[1]] = modifications_metadata[mods_rownumber][column_number]\n",
    "                    else:\n",
    "                        pass # this shouldn't really happen since there already was a check that all columns existed in the versions table\n",
    "                print(terms_metadata[term_rownumber])\n",
    "    # this section of code adds new term metadata\n",
    "    else: \n",
    "        newTermRow = []\n",
    "        for column in range(0, len(terms_metadata[0])):\n",
    "            newTermRow.append('')\n",
    "        newTermRow[0] = isoTime(local_offset_from_utc)\n",
    "        newTermRow[term_modified[1]] = date_issued\n",
    "        newTermRow[term_created[1]] = date_issued\n",
    "        newTermRow[term_isDefinedBy[1]] = namespaceUri\n",
    "        # replace every column that's in the modifications metadata\n",
    "        for column_number in range(0, len(modifications_metadata[0])):\n",
    "            # find the column in the current terms metadata table that matches the modifications column and replace the current term's value\n",
    "            result = findColumnWithHeader(terms_metadata[0], modifications_metadata[0][column_number])\n",
    "            if result[0] == True:\n",
    "                newTermRow[result[1]] = modifications_metadata[mods_rownumber][column_number]\n",
    "            else:\n",
    "                pass # this shouldn't really happen since there already was a check that all columns existed in the versions table\n",
    "        print(newTermRow)\n",
    "        terms_metadata.append(newTermRow)\n",
    "writeCsv('temp_terms.csv', terms_metadata)"
   ]
  },
  {
   "cell_type": "code",
   "execution_count": null,
   "metadata": {},
   "outputs": [],
   "source": []
  }
 ],
 "metadata": {
  "kernelspec": {
   "display_name": "Python 3",
   "language": "python",
   "name": "python3"
  },
  "language_info": {
   "codemirror_mode": {
    "name": "ipython",
    "version": 3
   },
   "file_extension": ".py",
   "mimetype": "text/x-python",
   "name": "python",
   "nbconvert_exporter": "python",
   "pygments_lexer": "ipython3",
   "version": "3.7.3"
  }
 },
 "nbformat": 4,
 "nbformat_minor": 2
}
