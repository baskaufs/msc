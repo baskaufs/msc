{
 "cells": [
  {
   "cell_type": "markdown",
   "metadata": {},
   "source": [
    "# 1 Initial setup\n",
    "\n",
    "Import modules"
   ]
  },
  {
   "cell_type": "code",
   "execution_count": null,
   "metadata": {},
   "outputs": [],
   "source": [
    "import csv\n",
    "import sys\n",
    "import datetime\n",
    "import copy"
   ]
  },
  {
   "cell_type": "markdown",
   "metadata": {},
   "source": [
    "Set variables for this run"
   ]
  },
  {
   "cell_type": "code",
   "execution_count": null,
   "metadata": {},
   "outputs": [],
   "source": [
    "namespaceUri = 'http://rs.tdwg.org/ac/terms/'\n",
    "database = 'audubon'\n",
    "vocabulary = 'ac'\n",
    "namespace = 'terms'\n",
    "date_issued = '2019-09-30'\n",
    "local_offset_from_utc = '-05:00'\n",
    "versions = database + '-versions'\n",
    "modifications_filename = 'mods.csv'\n",
    "version_namespace = namespaceUri + 'version/'"
   ]
  },
  {
   "cell_type": "markdown",
   "metadata": {},
   "source": [
    "Define utility functions"
   ]
  },
  {
   "cell_type": "code",
   "execution_count": null,
   "metadata": {},
   "outputs": [],
   "source": [
    "def readCsv(filename):\n",
    "    fileObject = open(filename, 'r', newline='', encoding='utf-8')\n",
    "    readerObject = csv.reader(fileObject)\n",
    "    array = []\n",
    "    for row in readerObject:\n",
    "        array.append(row)\n",
    "    fileObject.close()\n",
    "    return array\n",
    "\n",
    "def writeCsv(fileName, array):\n",
    "    fileObject = open(fileName, 'w', newline='', encoding='utf-8')\n",
    "    writerObject = csv.writer(fileObject)\n",
    "    for row in array:\n",
    "        writerObject.writerow(row)\n",
    "    fileObject.close()\n",
    "\n",
    "    # returns a list with first item Boolean and second item the index\n",
    "def findColumnWithHeader(header_row_list, header_label):\n",
    "    found = False\n",
    "    for column_number in range(0, len(header_row_list)):\n",
    "        if header_row_list[column_number] == header_label:\n",
    "            found = True\n",
    "            found_column = column_number\n",
    "    if found:\n",
    "        return [True, found_column]\n",
    "    else:\n",
    "        return [False, 0]\n",
    "    \n",
    "def isoTime(offset):\n",
    "    currentTime = datetime.datetime.now()\n",
    "    return currentTime.strftime(\"%Y-%m-%dT%H:%M:%S\") + offset"
   ]
  },
  {
   "cell_type": "markdown",
   "metadata": {},
   "source": [
    "# 2 Extract information from metadata files\n",
    "\n",
    "**Notes for all tables:** row 0 (the first row) is a header row. The columns whose headers contain `replaces1_` and `replaces2_` are used in the uncommon situation where a term or version replaces more than one other term or version.  In such cases, the tables would need to be modified manually.  \n",
    "\n",
    "The table containing the **modifications** (term additions and changes) looks like this:\n",
    "\n",
    "![](mods-table.png)\n",
    "\n",
    "The `term_localName` column is the primary key for this table.\n",
    "\n",
    "The table containing **current terms metadata** looks like this:\n",
    "\n",
    "![](current-terms-table1.png)\n",
    "![](current-terms-table2.png)\n",
    "\n",
    "Notice that all of the column headers from `label` onwards to the right are the same as those in the modifications table. The column headers to the left of `label` are ideosyncratic for the current terms table type and must be handled specially.  The `term_localName` column is the primary key for this table.  The `term_deprecated` and `replaces_term` columns are for unusual situations and aren't managed by this script.  They would need to be edited manually when those situations occur.\n",
    "\n",
    "The table containing **versions metadata** looks like this:\n",
    "\n",
    "![](versions-table1.png)\n",
    "![](versions-table2.png)\n",
    "\n",
    "As with the current terms table, all of the column headers from `label` onwards to the right are the same as the previous two tables. The column headers to the left of `label` are ideosyncratic for the table type and must be handled specially. The `versionLocalName` column is the primary key for this table.  The `term_localName` column is a foreign key that relates rows in this table to rows in the other two tables.  \n",
    "\n",
    "## 2.1 Read in the tables of current terms and of modifications"
   ]
  },
  {
   "cell_type": "code",
   "execution_count": null,
   "metadata": {},
   "outputs": [],
   "source": [
    "terms_metadata_filename = database + '/' + database + '.csv'\n",
    "terms_metadata = readCsv(terms_metadata_filename)\n",
    "\n",
    "modifications_metadata = readCsv(modifications_filename)\n",
    "print('Current terms table headers: ', terms_metadata[0])\n",
    "print()\n",
    "print('Modifications table headers: ', modifications_metadata[0])"
   ]
  },
  {
   "cell_type": "markdown",
   "metadata": {},
   "source": [
    "The script loads data only on the basis of the column names and not their position.  So a number of variables are defined that hold the column numbers for various fields.  \n",
    "\n",
    "Find which column numbers in the modifications file and the metadata file hold the term local name.  This column is the primary key for the table and therefore is used to match rows for terms that need to be modified with the corresponding rows in the current term metadata table.  The `term_localName` column is the only one in the modifications table that is not potentially a vocabulary-specific metadata field."
   ]
  },
  {
   "cell_type": "code",
   "execution_count": null,
   "metadata": {},
   "outputs": [],
   "source": [
    "result = findColumnWithHeader(modifications_metadata[0], 'term_localName')\n",
    "if result[0] == False:\n",
    "    print('The modifications file does not have a term_localName column')\n",
    "    sys.exit\n",
    "else:\n",
    "    mods_local_name = result[1]\n",
    "\n",
    "# don't error trap here because all existing files should have a local name column header\n",
    "result = findColumnWithHeader(terms_metadata[0], 'term_localName')\n",
    "metadata_localname_column = result[1]\n",
    "print('Modifications table local name column: ', mods_local_name)\n",
    "print('Term metadata table local name column: ', metadata_localname_column)"
   ]
  },
  {
   "cell_type": "markdown",
   "metadata": {},
   "source": [
    "Create a list of the local names of terms to be added or modified"
   ]
  },
  {
   "cell_type": "code",
   "execution_count": null,
   "metadata": {},
   "outputs": [],
   "source": [
    "mods_term_localName = []\n",
    "for term_number in range(1, len(modifications_metadata)):\n",
    "    mods_term_localName.append(modifications_metadata[term_number][mods_local_name])\n",
    "print(mods_term_localName)"
   ]
  },
  {
   "cell_type": "markdown",
   "metadata": {},
   "source": [
    "Find out which terms are new terms and which are modified old terms.  Create a list for each."
   ]
  },
  {
   "cell_type": "code",
   "execution_count": null,
   "metadata": {},
   "outputs": [],
   "source": [
    "new_terms = []\n",
    "modified_terms = []\n",
    "for test_term in mods_term_localName:\n",
    "    found = False\n",
    "    for term in terms_metadata:\n",
    "        if test_term == term[metadata_localname_column]:\n",
    "            found = True\n",
    "            modified_terms.append(test_term)\n",
    "    if not found:\n",
    "        new_terms.append(test_term)\n",
    "print('New terms: ', new_terms)\n",
    "print('Modified terms: ', modified_terms)"
   ]
  },
  {
   "cell_type": "markdown",
   "metadata": {},
   "source": [
    "# 3 Update versions-related metadata\n",
    "\n",
    "The master versions metadata table (in the `xx-versions` directory) is used to generate metadata about versions.  The versions join table (in the current terms directory) is a minimal joins table used to generate the `hasVersion` links for current terms.  The versions replacements table is used to generate `dcterms:replaces` and `dcterms:isReplacedBy` links for version metadata records.\n",
    "\n",
    "## 3.1 Load master versions metadata and determine positions of special columns\n",
    "\n",
    "Read in the term versions metadata file"
   ]
  },
  {
   "cell_type": "code",
   "execution_count": null,
   "metadata": {},
   "outputs": [],
   "source": [
    "term_versions_metadata_filename = versions + '/' + versions + '.csv'\n",
    "term_versions_metadata = readCsv(term_versions_metadata_filename)\n",
    "print('Version headers: ', term_versions_metadata[0])"
   ]
  },
  {
   "cell_type": "markdown",
   "metadata": {},
   "source": [
    "Find the positions of the ideosyncratic version columns.  Recall:\n",
    "\n",
    "![](versions-table1.png)\n",
    "![](versions-table2.png)"
   ]
  },
  {
   "cell_type": "code",
   "execution_count": null,
   "metadata": {},
   "outputs": [],
   "source": [
    "version_modified = findColumnWithHeader(term_versions_metadata[0], 'document_modified')[1]\n",
    "version_column = findColumnWithHeader(term_versions_metadata[0], 'version')[1]\n",
    "version_local_name = findColumnWithHeader(term_versions_metadata[0], 'versionLocalName')[1]\n",
    "version_isDefinedBy = findColumnWithHeader(term_versions_metadata[0], 'version_isDefinedBy')[1]\n",
    "version_issued = findColumnWithHeader(term_versions_metadata[0], 'version_issued')[1]\n",
    "version_status = findColumnWithHeader(term_versions_metadata[0], 'version_status')[1]\n",
    "replaces_version = findColumnWithHeader(term_versions_metadata[0], 'replaces_version')[1]\n",
    "version_term_local_name_column = findColumnWithHeader(term_versions_metadata[0], 'term_localName')[1]"
   ]
  },
  {
   "cell_type": "markdown",
   "metadata": {},
   "source": [
    "## 3.2 Supersede old versions of the modified terms\n",
    "\n",
    "Go through each version and supersede any that match the local names of the modified terms"
   ]
  },
  {
   "cell_type": "code",
   "execution_count": null,
   "metadata": {},
   "outputs": [],
   "source": [
    "print('rows in versions table to be superseded:')\n",
    "for term in modified_terms:\n",
    "    for version_row in range(1, len(term_versions_metadata)):\n",
    "        if term_versions_metadata[version_row][version_term_local_name_column] == term:\n",
    "            print(version_row, term)\n",
    "            term_versions_metadata[version_row][version_status] = 'superseded'\n",
    "            term_versions_metadata[version_row][version_modified] = isoTime(local_offset_from_utc)"
   ]
  },
  {
   "cell_type": "markdown",
   "metadata": {},
   "source": [
    "## 3.3 Create new versions of new and modified terms\n",
    "\n",
    "Make sure that all columns in modified terms file are in the term versions file"
   ]
  },
  {
   "cell_type": "code",
   "execution_count": null,
   "metadata": {},
   "outputs": [],
   "source": [
    "for column in modifications_metadata[0]:\n",
    "    result = findColumnWithHeader(term_versions_metadata[0], column)\n",
    "    if result[0] == False:\n",
    "        print('The modifications file is missing the ', column, ' column.')\n",
    "        sys.exit"
   ]
  },
  {
   "cell_type": "markdown",
   "metadata": {},
   "source": [
    "Open the versions join table, which looks like this:\n",
    "\n",
    "![](version-joins-table.png)"
   ]
  },
  {
   "cell_type": "code",
   "execution_count": null,
   "metadata": {},
   "outputs": [],
   "source": [
    "versions_join_table_filename = database + '/' + versions + '.csv'\n",
    "versions_join_table = readCsv(versions_join_table_filename)\n",
    "print('Versions join table headers: ', versions_join_table[0])"
   ]
  },
  {
   "cell_type": "markdown",
   "metadata": {},
   "source": [
    "Create new versions and new version joins lists"
   ]
  },
  {
   "cell_type": "code",
   "execution_count": null,
   "metadata": {},
   "outputs": [],
   "source": [
    "newVersions = []\n",
    "newVersionJoins = []"
   ]
  },
  {
   "cell_type": "markdown",
   "metadata": {},
   "source": [
    "Create a row in the new term versions list for the added or modified terms"
   ]
  },
  {
   "cell_type": "code",
   "execution_count": null,
   "metadata": {
    "scrolled": true
   },
   "outputs": [],
   "source": [
    "for row_number in range(1, len(modifications_metadata)):\n",
    "    newVersion = []\n",
    "    # create a column for every column in the term version file\n",
    "    for column in term_versions_metadata[0]:\n",
    "        # find the column in the modifications file that matches the version column and add its value\n",
    "        result = findColumnWithHeader(modifications_metadata[0], column)\n",
    "        if result[0] == True:\n",
    "            newVersion.append(modifications_metadata[row_number][result[1]])\n",
    "        else:\n",
    "            newVersion.append('')\n",
    "    # set the modification dateTime for the newly created version\n",
    "    newVersion[version_modified] = isoTime(local_offset_from_utc)\n",
    "    newVersions.append(newVersion)"
   ]
  },
  {
   "cell_type": "markdown",
   "metadata": {},
   "source": [
    "Insert metadata specific to the new versions"
   ]
  },
  {
   "cell_type": "code",
   "execution_count": null,
   "metadata": {
    "scrolled": true
   },
   "outputs": [],
   "source": [
    "for rowNumber in range(0, len(newVersions)):\n",
    "    # need to add one to the row of modifications_metadata because it includes a header row\n",
    "    currentTermLocalName = modifications_metadata[rowNumber + 1][mods_local_name]\n",
    "    newVersions[rowNumber][version_issued] = date_issued\n",
    "    newVersions[rowNumber][version_status] = 'recommended'\n",
    "    newVersions[rowNumber][version_local_name] = currentTermLocalName + '-' + date_issued\n",
    "    newVersions[rowNumber][version_isDefinedBy] = version_namespace\n",
    "    newVersions[rowNumber][version_column] = version_namespace + currentTermLocalName + '-' + date_issued\n",
    "\n",
    "    # if the new version replaces an older one for the term, we need to provide a value for the `replaces_version` column\n",
    "    if currentTermLocalName in modified_terms:\n",
    "        # look through metadata for old versions to find the most recent version of the term\n",
    "        mostRecent = 'a' # start with a string value earlier in alphabetization than any term version URI\n",
    "        for version_row in range(1, len(term_versions_metadata)):\n",
    "            if term_versions_metadata[version_row][version_term_local_name_column] == currentTermLocalName:\n",
    "                # Make it the mostRecent if it's later than the previous mostRecent\n",
    "                if term_versions_metadata[version_row][version_column] > mostRecent:\n",
    "                    mostRecent = term_versions_metadata[version_row][version_column]\n",
    "        # insert the most recent version found into the appropriate column\n",
    "        newVersions[rowNumber][replaces_version] = mostRecent\n",
    "    \n",
    "    # create a join record for each new version and add it to the list of new joins\n",
    "    newVersionJoin =[ newVersions[rowNumber][version_column], modifications_metadata[rowNumber + 1][mods_local_name] ]\n",
    "    newVersionJoins.append(newVersionJoin)\n",
    "\n",
    "print(newVersions)\n",
    "print()\n",
    "print(newVersionJoins)"
   ]
  },
  {
   "cell_type": "markdown",
   "metadata": {},
   "source": [
    "Append the new versions to the old version tables and save the file"
   ]
  },
  {
   "cell_type": "code",
   "execution_count": null,
   "metadata": {},
   "outputs": [],
   "source": [
    "revised_term_versions_metadata = term_versions_metadata + newVersions\n",
    "writeCsv('temp_versions.csv', revised_term_versions_metadata)\n",
    "\n",
    "revised_term_versions_joins = versions_join_table + newVersionJoins\n",
    "writeCsv('temp_version_joins.csv', revised_term_versions_joins)"
   ]
  },
  {
   "cell_type": "markdown",
   "metadata": {},
   "source": [
    "## 3.4 Update the versions replacements table\n",
    "\n",
    "The versions replacements table links a newly created version of a modified term to the previous version it is replacing. \n",
    "\n",
    "Since new terms do not have any previous versions, they will not have entries in this table. Thus replacement entries only need to be generated for terms on the `modified_terms` list.\n",
    "\n",
    "The script only handles cases where there is a new version of a term with the same local name.  In cases where an old term is deprecated and is replaced by a new term with a different local name, the replacement table will need to be updated manually.\n",
    "\n",
    "Here's an example of what a replacements table looks like:\n",
    "\n",
    "![](version-replacements-table.png)\n",
    "\n",
    "Open it:"
   ]
  },
  {
   "cell_type": "code",
   "execution_count": null,
   "metadata": {},
   "outputs": [],
   "source": [
    "versions_replacements_table_filename = versions + '/' + versions + '-replacements.csv'\n",
    "versions_replacements_table = readCsv(versions_replacements_table_filename)\n",
    "print('Versions replacements table headers: ', versions_replacements_table[0])"
   ]
  },
  {
   "cell_type": "markdown",
   "metadata": {},
   "source": [
    "Find the most recent previous version for each term on the `modified_terms` list and generate a replacement record for it."
   ]
  },
  {
   "cell_type": "code",
   "execution_count": null,
   "metadata": {},
   "outputs": [],
   "source": [
    "# create a list to hold the newly generated replacements rows\n",
    "newReplacements = []\n",
    "\n",
    "for modifiedTerm in modified_terms:\n",
    "    # generate the newly created version local name for the modified term\n",
    "    newVersion = modifiedTerm  + '-' + date_issued\n",
    "    # step through the list of previous versions and find the one with the most recent issued date\n",
    "    mostRecent = 'a'\n",
    "    for oldVersion in versions_join_table:\n",
    "        # the second column in the join table is the term local name\n",
    "        if oldVersion[1] == modifiedTerm:\n",
    "            # the first column in the join table is the full version URI. Make it the mostRecent if it's later than the previous mostRecent\n",
    "            if oldVersion[0] > mostRecent:\n",
    "                mostRecent = oldVersion[0]\n",
    "    newReplacements.append([mostRecent, newVersion])\n",
    "print(newReplacements)"
   ]
  },
  {
   "cell_type": "markdown",
   "metadata": {},
   "source": [
    "Append the new replacement list to the existing table and save as a file"
   ]
  },
  {
   "cell_type": "code",
   "execution_count": null,
   "metadata": {},
   "outputs": [],
   "source": [
    "revised_versions_replacements_table = versions_replacements_table + newReplacements\n",
    "writeCsv('temp_replacements.csv', revised_versions_replacements_table)"
   ]
  },
  {
   "cell_type": "markdown",
   "metadata": {},
   "source": [
    "# 4 Process current terms metadata\n",
    "\n",
    "## 4.1 determine positions of special columns\n",
    "\n",
    "Find the positions of the ideosyncratic current terms columns (table already loaded). Recall:\n",
    "\n",
    "![](current-terms-table1.png)\n",
    "![](current-terms-table2.png)"
   ]
  },
  {
   "cell_type": "code",
   "execution_count": null,
   "metadata": {},
   "outputs": [],
   "source": [
    "term_modified_dateTime = findColumnWithHeader(terms_metadata[0], 'document_modified')[1]\n",
    "term_localName = findColumnWithHeader(terms_metadata[0], 'term_localName')[1]\n",
    "term_modified = findColumnWithHeader(terms_metadata[0], 'term_modified')[1]\n",
    "term_created = findColumnWithHeader(terms_metadata[0], 'term_created')[1]\n",
    "term_isDefinedBy = findColumnWithHeader(terms_metadata[0], 'term_isDefinedBy')[1]"
   ]
  },
  {
   "cell_type": "markdown",
   "metadata": {},
   "source": [
    "## 4.2 Modify current terms metadata table\n",
    "\n",
    "Each item in the term modifications list will either modify existing term metadata or add new term metadata"
   ]
  },
  {
   "cell_type": "code",
   "execution_count": null,
   "metadata": {},
   "outputs": [],
   "source": [
    "print('Changed current terms rows: ')\n",
    "# step through each row in the modification metadata table and modify existing current terms when applicable\n",
    "for mods_rownumber in range(1, len(modifications_metadata)):\n",
    "    mods_localname_string = modifications_metadata[mods_rownumber][mods_local_name]\n",
    "    modified = False\n",
    "    for term_name in modified_terms:\n",
    "        # only make a modification if it's on the list of terms to be modified\n",
    "        if mods_localname_string == term_name:\n",
    "            modified = True\n",
    "    # this section of code modifies existing terms\n",
    "    if modified:\n",
    "        # find the row in the terms metadata file for the term to be modified\n",
    "        for term_rownumber in range(1, len(terms_metadata)):\n",
    "            if mods_localname_string == terms_metadata[term_rownumber][term_localName]:\n",
    "                terms_metadata[term_rownumber][term_modified_dateTime] = isoTime(local_offset_from_utc)\n",
    "                terms_metadata[term_rownumber][term_modified] = date_issued\n",
    "                # replace every column that's in the modifications metadata\n",
    "                for column_number in range(0, len(modifications_metadata[0])):\n",
    "                    # find the column in the current terms metadata table that matches the modifications column and replace the current term's value\n",
    "                    result = findColumnWithHeader(terms_metadata[0], modifications_metadata[0][column_number])\n",
    "                    if result[0] == True:\n",
    "                        terms_metadata[term_rownumber][result[1]] = modifications_metadata[mods_rownumber][column_number]\n",
    "                    else:\n",
    "                        pass # this shouldn't really happen since there already was a check that all columns existed in the versions table\n",
    "                print(terms_metadata[term_rownumber])\n",
    "    # this section of code adds new term metadata\n",
    "    else: \n",
    "        newTermRow = []\n",
    "        for column in range(0, len(terms_metadata[0])):\n",
    "            newTermRow.append('')\n",
    "        newTermRow[term_modified_dateTime] = isoTime(local_offset_from_utc)\n",
    "        newTermRow[term_modified] = date_issued\n",
    "        newTermRow[term_created] = date_issued\n",
    "        newTermRow[term_isDefinedBy] = namespaceUri\n",
    "        # replace every column that's in the modifications metadata\n",
    "        for column_number in range(0, len(modifications_metadata[0])):\n",
    "            # find the column in the current terms metadata table that matches the modifications column and replace the current term's value\n",
    "            result = findColumnWithHeader(terms_metadata[0], modifications_metadata[0][column_number])\n",
    "            if result[0] == True:\n",
    "                newTermRow[result[1]] = modifications_metadata[mods_rownumber][column_number]\n",
    "            else:\n",
    "                pass # this shouldn't really happen since there already was a check that all columns existed in the versions table\n",
    "        print(newTermRow)\n",
    "        terms_metadata.append(newTermRow)\n",
    "writeCsv('temp_terms.csv', terms_metadata)"
   ]
  },
  {
   "cell_type": "markdown",
   "metadata": {},
   "source": [
    "# 5 Generate new term list version\n",
    "\n",
    "These changes to terms trigger a new version of the term list.  The term lists are in the special directories `term-lists` and `term-lists-versions`.  \n",
    "\n",
    "## 5.1 Open tables\n",
    "\n",
    "The master term lists and term list versions joins tables are similar to the terms metadata tables and their joins tables:"
   ]
  },
  {
   "cell_type": "code",
   "execution_count": null,
   "metadata": {},
   "outputs": [],
   "source": [
    "term_lists_table_filename = 'term-lists/term-lists.csv'\n",
    "term_lists_table = readCsv(term_lists_table_filename)\n",
    "print('Term lists table headers and first row: ', term_lists_table[0:2])"
   ]
  },
  {
   "cell_type": "code",
   "execution_count": null,
   "metadata": {},
   "outputs": [],
   "source": [
    "term_lists_versions_joins_filename = 'term-lists/term-lists-versions.csv'\n",
    "term_lists_versions_joins = readCsv(term_lists_versions_joins_filename)\n",
    "print('Term lists versions joins table headers and first row: ', term_lists_versions_joins[0:2])"
   ]
  },
  {
   "cell_type": "markdown",
   "metadata": {},
   "source": [
    "The `term-list-members.csv` file is used to create the one:many links between the term list and the terms that are members of it."
   ]
  },
  {
   "cell_type": "code",
   "execution_count": null,
   "metadata": {},
   "outputs": [],
   "source": [
    "term_lists_members_filename = 'term-lists/term-lists-members.csv'\n",
    "term_lists_members = readCsv(term_lists_members_filename)\n",
    "print('Term lists members table headers and first row: ', term_lists_members[0:2])"
   ]
  },
  {
   "cell_type": "markdown",
   "metadata": {},
   "source": [
    "The master term list versions metadata table is used to generate records of the versions."
   ]
  },
  {
   "cell_type": "code",
   "execution_count": null,
   "metadata": {},
   "outputs": [],
   "source": [
    "term_lists_versions_metadata_filename = 'term-lists-versions/term-lists-versions.csv'\n",
    "term_lists_versions_metadata = readCsv(term_lists_versions_metadata_filename)\n",
    "print('Term lists versions metadata table headers and first row: ', term_lists_versions_metadata[0:2])"
   ]
  },
  {
   "cell_type": "markdown",
   "metadata": {},
   "source": [
    "The term lists versions members table tracks all of the term versions that are part of a particular version of a term list. It's used to generate `dcterms:hasPart` and `dcterms:isPartOf` links."
   ]
  },
  {
   "cell_type": "code",
   "execution_count": null,
   "metadata": {},
   "outputs": [],
   "source": [
    "term_lists_versions_members_filename = 'term-lists-versions/term-lists-versions-members.csv'\n",
    "term_lists_versions_members = readCsv(term_lists_versions_members_filename)\n",
    "print('Term lists versions members table headers and first row: ', term_lists_versions_members[0:2])"
   ]
  },
  {
   "cell_type": "markdown",
   "metadata": {},
   "source": [
    "The term lists versions replacements is used to generate the `dcterms:replaces` and `dcterms:isReplacedBy` links between term list versions."
   ]
  },
  {
   "cell_type": "code",
   "execution_count": null,
   "metadata": {},
   "outputs": [],
   "source": [
    "term_lists_versions_replacements_filename = 'term-lists-versions/term-lists-versions-replacements.csv'\n",
    "term_lists_versions_replacements = readCsv(term_lists_versions_replacements_filename)\n",
    "print('Term lists versions replacements table headers and first row: ', term_lists_versions_replacements[0:2])"
   ]
  },
  {
   "cell_type": "markdown",
   "metadata": {},
   "source": [
    "## 5.2 Update tables\n",
    "\n",
    "Generate the URI for the new term list version.\n",
    "**Note:** need to trap for ideosyncratic URI pattern of `http://rs.tdwg.org/dwc/terms/attributes/`"
   ]
  },
  {
   "cell_type": "code",
   "execution_count": null,
   "metadata": {},
   "outputs": [],
   "source": [
    "if namespaceUri == 'http://rs.tdwg.org/dwc/terms/attributes/':\n",
    "    termlistVersionUri = 'http://rs.tdwg.org/dwc/version/terms/attributes/' + date_issued\n",
    "else:\n",
    "    # split the URI between the vocabulary and term list subpaths\n",
    "    uriPieces = namespaceUri.split('/')\n",
    "    termlistVersionUri = uriPieces[0] + '//' + uriPieces[2] + '/' + uriPieces[3] + '/version/' + uriPieces[4] + '/' + date_issued\n",
    "    print(uriPieces)\n",
    "    print(termlistVersionUri)"
   ]
  },
  {
   "cell_type": "markdown",
   "metadata": {},
   "source": [
    "Update the `list_modified` value for the focal term list. **Note:** Any modifications to the term list label or description needs to be done manually to the CSV file."
   ]
  },
  {
   "cell_type": "code",
   "execution_count": null,
   "metadata": {},
   "outputs": [],
   "source": [
    "list_uri = findColumnWithHeader(term_lists_table[0], 'list')[1]\n",
    "list_modified = findColumnWithHeader(term_lists_table[0], 'list_modified')[1]\n",
    "modified_datetime = findColumnWithHeader(term_lists_table[0], 'document_modified')[1]\n",
    "\n",
    "for rowNumber in range(1, len(term_lists_table)):\n",
    "    # by convention, the namespace URI used for the terms is the same as the URI of the term list\n",
    "    if namespaceUri == term_lists_table[rowNumber][list_uri]:\n",
    "        term_list_rowNumber = rowNumber\n",
    "        term_lists_table[rowNumber][list_modified] = date_issued\n",
    "        term_lists_table[rowNumber][modified_datetime] = isoTime(local_offset_from_utc)\n",
    "        print(term_lists_table[rowNumber])\n",
    "\n",
    "writeCsv('term-lists.csv', term_lists_table)"
   ]
  },
  {
   "cell_type": "markdown",
   "metadata": {},
   "source": [
    "Add a row for the new term list version in the term list versions joins file"
   ]
  },
  {
   "cell_type": "code",
   "execution_count": null,
   "metadata": {},
   "outputs": [],
   "source": [
    "term_lists_versions_joins.append([termlistVersionUri, namespaceUri])\n",
    "writeCsv('term-lists-versions-join.csv', term_lists_versions_joins)"
   ]
  },
  {
   "cell_type": "markdown",
   "metadata": {},
   "source": [
    "Add only the new terms to the term list members table"
   ]
  },
  {
   "cell_type": "code",
   "execution_count": null,
   "metadata": {},
   "outputs": [],
   "source": [
    "for newTerm in new_terms:\n",
    "    term_lists_members.append([namespaceUri, namespaceUri + newTerm])\n",
    "writeCsv('term-lists-members.csv', term_lists_members)"
   ]
  },
  {
   "cell_type": "markdown",
   "metadata": {},
   "source": [
    "Add new term list version to the master term list version metadata file. The script assumes that all of the metadata remains the same as the previous version. If any values are different, change the CSV manually."
   ]
  },
  {
   "cell_type": "code",
   "execution_count": null,
   "metadata": {},
   "outputs": [],
   "source": [
    "# find the columns than contain needed information\n",
    "list_uri = findColumnWithHeader(term_lists_versions_metadata[0], 'list')[1]\n",
    "document_modified = findColumnWithHeader(term_lists_versions_metadata[0], 'document_modified')[1]\n",
    "version_uri = findColumnWithHeader(term_lists_versions_metadata[0], 'version')[1]\n",
    "version_modified = findColumnWithHeader(term_lists_versions_metadata[0], 'version_modified')[1]\n",
    "status_column = findColumnWithHeader(term_lists_versions_metadata[0], 'status')[1]\n",
    "\n",
    "# find the most recent previous version of the term list\n",
    "mostRecent = 'a' # start the value of mostRecent as something earlier alphabetically than all of the list URIs\n",
    "mostRecentListNumber = 0 # dummy list number to be replaced when most recent list is found\n",
    "for termListRowNumber in range(1, len(term_lists_versions_metadata)):\n",
    "    # the row is one of the versions of the list\n",
    "    if term_lists_versions_metadata[termListRowNumber][list_uri] == namespaceUri:\n",
    "        # Make the version of the row the mostRecent if it's later than the previous mostRecent\n",
    "        if term_lists_versions_metadata[termListRowNumber][list_uri] > mostRecent:\n",
    "            mostRecent = term_lists_versions_metadata[termListRowNumber][list_uri]\n",
    "            mostRecentListNumber = termListRowNumber\n",
    "\n",
    "# change the status of the most recent list to superceded\n",
    "term_lists_versions_metadata[mostRecentListNumber][status_column] = 'superseded'\n",
    "            \n",
    "# start the new list row with the metadata from the most recent list\n",
    "newListRow = copy.deepcopy(term_lists_versions_metadata[mostRecentListNumber])\n",
    "\n",
    "# substitute metadata to make the most recent list have the modified dates for the new list\n",
    "newListRow[document_modified] = isoTime(local_offset_from_utc)\n",
    "newListRow[version_uri] = termlistVersionUri\n",
    "newListRow[version_modified] = date_issued\n",
    "newListRow[status_column] = 'recommended'\n",
    "\n",
    "# append the new term list row to the old list of term lists\n",
    "term_lists_versions_metadata.append(newListRow)\n",
    "\n",
    "# save as a file\n",
    "writeCsv('term-lists-versions.csv', term_lists_versions_metadata)"
   ]
  },
  {
   "cell_type": "markdown",
   "metadata": {},
   "source": [
    "Create the term list version members list for the new version of the term list.  This includes every pre-existing term version that hasn't changed, the new versions of terms that changed, and term versions for new terms that weren't previously on the list.\n",
    "\n",
    "As the script updates term list version members, it will also create a new row in the term list replacements table if the new term version is replacing a previous one."
   ]
  },
  {
   "cell_type": "code",
   "execution_count": null,
   "metadata": {},
   "outputs": [],
   "source": [
    "# create a list of every term version that was in the most recent previous list version\n",
    "newTermVersionMembersList = []\n",
    "# create a corresponding list of local names for those versions\n",
    "termLocalNameList = []\n",
    "\n",
    "for termVersion in term_lists_versions_members:\n",
    "    # the first column contains the term list version\n",
    "    if term_lists_versions_metadata[mostRecentListNumber][version_uri] == termVersion[0]:\n",
    "        newTermVersionMembersList.append(termVersion[1])\n",
    "        \n",
    "        # dissect the term version URI to pull out the local name of the term version\n",
    "        pieces = termVersion[1].split('/')\n",
    "        versionLocalNamePiece = pieces[len(pieces)-1]\n",
    "        # split off the local name string from the issue date part of the version local name\n",
    "        termLocalNameList.append(versionLocalNamePiece.split('-')[0])\n",
    "\n",
    "# For each modified term, find its previous version and replace it with the new new version.\n",
    "for modified_term in modified_terms:\n",
    "    for termVersionRowNumber in range(0, len(newTermVersionMembersList)):\n",
    "        if modified_term == termLocalNameList[termVersionRowNumber]:\n",
    "            # change the version on the list to the new one\n",
    "            newTermVersionMembersList[termVersionRowNumber] = namespaceUri + 'version/' + termLocalNameList[termVersionRowNumber] + '-' + date_issued\n",
    "\n",
    "# For each newly added term, add its new version to the list.\n",
    "for new_term in new_terms:\n",
    "    newTermVersionMembersList.append(namespaceUri + 'version/' + new_term + '-' + date_issued)\n",
    "\n",
    "# Now that the list is created of new term versions that are part of the new term version list,\n",
    "# add a record for each one to the term list versions members table\n",
    "for termVersionMember in newTermVersionMembersList:\n",
    "    term_lists_versions_members.append([termlistVersionUri, termVersionMember])\n",
    "\n",
    "# Write the updated term list versions members table to a file\n",
    "writeCsv('term-lists-versions-members.csv', term_lists_versions_members)"
   ]
  },
  {
   "cell_type": "markdown",
   "metadata": {},
   "source": [
    "Add a record to the term list versions replacements table showing that the new term list version has replaced the previous one."
   ]
  },
  {
   "cell_type": "code",
   "execution_count": null,
   "metadata": {},
   "outputs": [],
   "source": [
    "term_lists_versions_replacements.append([termlistVersionUri, term_lists_versions_metadata[mostRecentListNumber][version_uri]])\n",
    "writeCsv('term-lists-versions-replacements.csv', term_lists_versions_replacements)"
   ]
  },
  {
   "cell_type": "markdown",
   "metadata": {},
   "source": [
    "# 6 Generate new vocabulary version\n",
    "\n",
    "**Note:** This assumes that there will only be a single term list that has been modified in a particular vocabulary update.  If this script is run multiple times to update more than one term list within the vocabulary, ...\n",
    "\n",
    "The update process is very similar to that of the term lists."
   ]
  },
  {
   "cell_type": "markdown",
   "metadata": {},
   "source": [
    "## 6.1 Open tables\n",
    "\n",
    "The types of tables related to vocabularies and their versions are very similar to those of term lists.  The are located in the directories `vocabularies` and `vocabularies-versions`. "
   ]
  },
  {
   "cell_type": "code",
   "execution_count": null,
   "metadata": {},
   "outputs": [],
   "source": [
    "vocabularies_table_filename = 'vocabularies/vocabularies.csv'\n",
    "vocabularies_table = readCsv(vocabularies_table_filename)\n",
    "print('Vocabularies table headers and first row: ', vocabularies_table[0:2])"
   ]
  },
  {
   "cell_type": "code",
   "execution_count": null,
   "metadata": {},
   "outputs": [],
   "source": [
    "vocabularies_versions_joins_filename = 'vocabularies/vocabularies-versions.csv'\n",
    "vocabularies_versions_joins = readCsv(vocabularies_versions_joins_filename)\n",
    "print('Vocabularies versions joins table headers and first row: ', vocabularies_versions_joins[0:2])"
   ]
  },
  {
   "cell_type": "code",
   "execution_count": null,
   "metadata": {},
   "outputs": [],
   "source": [
    "vocabularies_members_filename = 'vocabularies/vocabularies-members.csv'\n",
    "vocabularies_members = readCsv(vocabularies_members_filename)\n",
    "print('Vocabularies members table headers and first row: ', vocabularies_members[0:2])"
   ]
  },
  {
   "cell_type": "code",
   "execution_count": null,
   "metadata": {},
   "outputs": [],
   "source": [
    "vocabularies_versions_metadata_filename = 'vocabularies-versions/vocabularies-versions.csv'\n",
    "vocabularies_versions_metadata = readCsv(vocabularies_versions_metadata_filename)\n",
    "print('Vocabularies versions metadata table headers and first row: ', vocabularies_versions_metadata[0:2])"
   ]
  },
  {
   "cell_type": "code",
   "execution_count": null,
   "metadata": {},
   "outputs": [],
   "source": [
    "vocabularies_members_filename = 'vocabularies-versions/vocabularies-versions-members.csv'\n",
    "vocabularies_members = readCsv(vocabularies_members_filename)\n",
    "print('Vocabularies versions members table headers and first row: ', vocabularies_members[0:2])"
   ]
  },
  {
   "cell_type": "code",
   "execution_count": null,
   "metadata": {},
   "outputs": [],
   "source": [
    "vocabularies_versions_replacements_filename = 'vocabularies-versions/vocabularies-versions-replacements.csv'\n",
    "vocabularies_versions_replacements = readCsv(vocabularies_versions_replacements_filename)\n",
    "print('Vocabularies versions replacements table headers and first row: ', vocabularies_versions_replacements[0:2])"
   ]
  },
  {
   "cell_type": "markdown",
   "metadata": {},
   "source": [
    "## 6.2 Update tables\n",
    "\n",
    "**Note:** The steps here are analogous to updating term lists.\n",
    "\n",
    "Generate the URI for the new vocabulary version"
   ]
  },
  {
   "cell_type": "code",
   "execution_count": null,
   "metadata": {},
   "outputs": [],
   "source": [
    "# find the vocabulary subpath for the updated term list\n",
    "list_localName_column = findColumnWithHeader(term_lists_table[0], 'list_localName')[1]\n",
    "list_localName = term_lists_table[term_list_rowNumber][list_localName_column]\n",
    "print('List local name: ', list_localName)\n",
    "# the vocabulary subpath is the first part of the list local name\n",
    "vocab_subpath = list_localName.split('/')[0]\n",
    "print('Vocabulary subpath: ', vocab_subpath)\n",
    "\n",
    "# generate the vocabulary version URI\n",
    "vocabularyVersionUri = 'http://rs.tdwg.org/version/' + vocab_subpath + '/' + date_issued\n",
    "print('New version URI: ', vocabularyVersionUri)\n"
   ]
  },
  {
   "cell_type": "code",
   "execution_count": null,
   "metadata": {},
   "outputs": [],
   "source": []
  }
 ],
 "metadata": {
  "kernelspec": {
   "display_name": "Python 3",
   "language": "python",
   "name": "python3"
  },
  "language_info": {
   "codemirror_mode": {
    "name": "ipython",
    "version": 3
   },
   "file_extension": ".py",
   "mimetype": "text/x-python",
   "name": "python",
   "nbconvert_exporter": "python",
   "pygments_lexer": "ipython3",
   "version": "3.7.1"
  }
 },
 "nbformat": 4,
 "nbformat_minor": 2
}
