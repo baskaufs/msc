{
 "cells": [
  {
   "cell_type": "code",
   "execution_count": 21,
   "metadata": {},
   "outputs": [],
   "source": [
    "# Fuzzy string matching\n",
    "from fuzzywuzzy import fuzz\n"
   ]
  },
  {
   "cell_type": "code",
   "execution_count": 43,
   "metadata": {},
   "outputs": [],
   "source": [
    "test = 'John Smith'\n",
    "target = 'John W. Smith, Jr.'"
   ]
  },
  {
   "cell_type": "code",
   "execution_count": 45,
   "metadata": {},
   "outputs": [],
   "source": [
    "test = 'Smithson, Robert G.'\n",
    "target = 'Robert G. Smithson'"
   ]
  },
  {
   "cell_type": "code",
   "execution_count": 35,
   "metadata": {},
   "outputs": [],
   "source": [
    "test = 'Elyse Chang'\n",
    "target = 'Carmen Elyse Chang'"
   ]
  },
  {
   "cell_type": "code",
   "execution_count": 47,
   "metadata": {},
   "outputs": [],
   "source": [
    "test = 'Roberta Smithson'\n",
    "target = 'Robert G. Smithson'"
   ]
  },
  {
   "cell_type": "code",
   "execution_count": 41,
   "metadata": {},
   "outputs": [],
   "source": [
    "test = 'Morgan Daniels'\n",
    "target = 'Daniel Morgan'"
   ]
  },
  {
   "cell_type": "code",
   "execution_count": 49,
   "metadata": {},
   "outputs": [],
   "source": [
    "test = \"ART Works. I'm living proof\"\n",
    "target = 'art works im living proof treatment that helps live programme people positively fm rose alinda olutolas hiv and living am proof t with hiviaids lts about eating staying well active that antie retroviral therapy art had or works test a and getting early for illnessess and found treatment art has had hiv any out but thanks art to tm really worked for providing living healthy productive for me life a my family without always worrying about aids art ar drugst isnt only about itls lifelong a visit your local hospital vct centre antiretroviral therapy or now aidsistd supported national control program po box 19361 nairobilkenya by dfid emallinto g aidskenya org government kenya of ministry of health'"
   ]
  },
  {
   "cell_type": "code",
   "execution_count": 50,
   "metadata": {},
   "outputs": [
    {
     "name": "stdout",
     "output_type": "stream",
     "text": [
      "name similarity ratio 5\n",
      "partial ratio 74\n",
      "sort_ratio 7\n",
      "set_ratio 92\n"
     ]
    }
   ],
   "source": [
    "# For names checked against a list of known Vanderbilt researchers (several thousand), I settled on \n",
    "# a token set ratio of 90 as a cutoff, with a secondary check of 90 similarity of token set ratio for department\n",
    "\n",
    "# Also performed a secondary test requiring a 75 similarity on the overall similarity to detect name reversals\n",
    "# For example, Morgan Daniels and Daniel Morgan\n",
    "\n",
    "# Detections about 95 almost never required human confirmation\n",
    "\n",
    "# Note: the longer the string and the more words, the more reliable.\n",
    "# Bad performance on names like \"R. Ng\"\n",
    "\n",
    "ratio = fuzz.ratio(test, target) # overall similarity looking at all characters\n",
    "partial_ratio = fuzz.partial_ratio(test, target) # similarity ignoring additional characters in target\n",
    "sort_ratio = fuzz.token_sort_ratio(test, target) # similarity after sorting words\n",
    "set_ratio = fuzz.token_set_ratio(test, target) # similarity when test words are a subset of sorted target words\n",
    "print('name similarity ratio', ratio)\n",
    "print('partial ratio', partial_ratio)\n",
    "print('sort_ratio', sort_ratio)\n",
    "print('set_ratio', set_ratio)\n"
   ]
  },
  {
   "cell_type": "code",
   "execution_count": null,
   "metadata": {},
   "outputs": [],
   "source": []
  },
  {
   "cell_type": "code",
   "execution_count": null,
   "metadata": {},
   "outputs": [],
   "source": []
  }
 ],
 "metadata": {
  "kernelspec": {
   "display_name": "Python 3",
   "language": "python",
   "name": "python3"
  },
  "language_info": {
   "codemirror_mode": {
    "name": "ipython",
    "version": 3
   },
   "file_extension": ".py",
   "mimetype": "text/x-python",
   "name": "python",
   "nbconvert_exporter": "python",
   "pygments_lexer": "ipython3",
   "version": "3.8.5"
  }
 },
 "nbformat": 4,
 "nbformat_minor": 4
}
