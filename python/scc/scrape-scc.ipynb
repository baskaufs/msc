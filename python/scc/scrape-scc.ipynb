{
 "cells": [
  {
   "cell_type": "markdown",
   "metadata": {},
   "source": [
    "## Preliminaries\n",
    "Initial setup"
   ]
  },
  {
   "cell_type": "code",
   "execution_count": 1,
   "metadata": {},
   "outputs": [],
   "source": [
    "import http_library\n",
    "import csv # library to read/write/parse CSV files\n",
    "from bs4 import BeautifulSoup # web-scraping library\n",
    "\n",
    "acceptMime = 'text/html'\n",
    "cikList = []\n",
    "cikPath = 'cik.txt'\n"
   ]
  },
  {
   "cell_type": "markdown",
   "metadata": {},
   "source": [
    "Open the file containing the list of CIK codes, read them in, and turn them into a list with whitespace stripped"
   ]
  },
  {
   "cell_type": "code",
   "execution_count": 2,
   "metadata": {},
   "outputs": [],
   "source": [
    "cikFileObject = open(cikPath, newline='')\n",
    "cikRows = cikFileObject.readlines()\n",
    "\n",
    "for cik in cikRows:\n",
    "    cikList.append(cik.strip())"
   ]
  },
  {
   "cell_type": "code",
   "execution_count": 3,
   "metadata": {},
   "outputs": [
    {
     "name": "stdout",
     "output_type": "stream",
     "text": [
      "['0001085917', '0000105598', '0000034088']\n"
     ]
    }
   ],
   "source": [
    "print(cikList)"
   ]
  },
  {
   "cell_type": "markdown",
   "metadata": {},
   "source": [
    "## Searching for 10-K forms\n",
    "Create a list of dictionaries for appropriate results"
   ]
  },
  {
   "cell_type": "code",
   "execution_count": 4,
   "metadata": {},
   "outputs": [],
   "source": [
    "resultsList = []"
   ]
  },
  {
   "cell_type": "markdown",
   "metadata": {},
   "source": [
    "Create the search URL using one hacked from playing around online"
   ]
  },
  {
   "cell_type": "code",
   "execution_count": 5,
   "metadata": {},
   "outputs": [
    {
     "name": "stdout",
     "output_type": "stream",
     "text": [
      "https://www.sec.gov/cgi-bin/browse-edgar?action=getcompany&CIK=0001085917&type=10-K&dateb=&owner=exclude&start=0&count=40&output=atom\n"
     ]
    }
   ],
   "source": [
    "cik = '0001085917'\n",
    "# this query string selects for 10-K forms, but also retrieves forms whose code start with 10-K\n",
    "baseUri = 'https://www.sec.gov/cgi-bin/browse-edgar?action=getcompany&CIK='+cik+'&type=10-K&dateb=&owner=exclude&start=0&count=40&output=atom'\n",
    "print(baseUri)\n"
   ]
  },
  {
   "cell_type": "markdown",
   "metadata": {},
   "source": [
    "Retrieve the XML document and turn it into "
   ]
  },
  {
   "cell_type": "code",
   "execution_count": null,
   "metadata": {},
   "outputs": [],
   "source": [
    "soup = BeautifulSoup(http_library.httpGet(baseUri,acceptMime)[1],features=\"html5lib\")\n",
    "# this search string limits results to only category elements with the attribute that's exactly equal to\"10-K\"\n",
    "# the select function returns a list of soup objects that can each be searched\n",
    "for cat in soup.select('category[term=\"10-K\"]'):\n",
    "    # can't use cat.filing-href because hyphen in tag is interpreted by Python as a minus\n",
    "    # also, couldn't get .strings to work, so used first child element (the string content of the tag)\n",
    "    date = cat.find('filing-date').contents[0]\n",
    "    year = date[:4]\n",
    "    print(year)\n",
    "    # create a dictionary of an individual result\n",
    "    searchResults = {'cik':cik,'year':year,'uri':cat.find('filing-href').contents[0]}\n",
    "    if year == \"2016\" or year == \"2014\":\n",
    "        # append the dictionary to the list of results\n",
    "        resultsList.append(searchResults)\n"
   ]
  },
  {
   "cell_type": "markdown",
   "metadata": {},
   "source": [
    "The loop is done, now show the results"
   ]
  },
  {
   "cell_type": "code",
   "execution_count": 20,
   "metadata": {},
   "outputs": [
    {
     "name": "stdout",
     "output_type": "stream",
     "text": [
      "[{'cik': '0000034088', 'year': '2016', 'uri': 'http://www.sec.gov/Archives/edgar/data/34088/000003408816000065/0000034088-16-000065-index.htm'}, {'cik': '0000034088', 'year': '2014', 'uri': 'http://www.sec.gov/Archives/edgar/data/34088/000003408814000012/0000034088-14-000012-index.htm'}]\n"
     ]
    }
   ],
   "source": [
    "print(resultsList)"
   ]
  },
  {
   "cell_type": "code",
   "execution_count": null,
   "metadata": {},
   "outputs": [],
   "source": []
  },
  {
   "cell_type": "code",
   "execution_count": 21,
   "metadata": {},
   "outputs": [
    {
     "name": "stdout",
     "output_type": "stream",
     "text": [
      "0\n",
      "http://www.sec.gov/Archives/edgar/data/34088/000003408816000065/xom10k2015.htm\n",
      "1\n",
      "http://www.sec.gov/Archives/edgar/data/34088/000003408814000012/xom10k2013.htm\n"
     ]
    }
   ],
   "source": [
    "for hitNumber in range(0,len(resultsList)):\n",
    "    print(hitNumber)\n",
    "    soup = BeautifulSoup(http_library.httpGet(resultsList[hitNumber]['uri'],acceptMime)[1],features=\"html5lib\")\n",
    "    for row in soup.select('tr'):\n",
    "        is10k = False\n",
    "        for cell in row.select('td'):\n",
    "            try:\n",
    "                testString = cell.contents[0]\n",
    "                if cell.contents[0] == \"10-K\":\n",
    "                    is10k = True\n",
    "            except:  # handle error caes where the cell doesn't have contents\n",
    "                pass\n",
    "        if is10k:\n",
    "            print('http://www.sec.gov' + row.a.get('href'))\n"
   ]
  },
  {
   "cell_type": "code",
   "execution_count": null,
   "metadata": {},
   "outputs": [],
   "source": []
  }
 ],
 "metadata": {
  "kernelspec": {
   "display_name": "Python 3",
   "language": "python",
   "name": "python3"
  },
  "language_info": {
   "codemirror_mode": {
    "name": "ipython",
    "version": 3
   },
   "file_extension": ".py",
   "mimetype": "text/x-python",
   "name": "python",
   "nbconvert_exporter": "python",
   "pygments_lexer": "ipython3",
   "version": "3.7.0"
  }
 },
 "nbformat": 4,
 "nbformat_minor": 2
}
