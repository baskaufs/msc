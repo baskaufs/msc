{
 "cells": [
  {
   "cell_type": "markdown",
   "metadata": {},
   "source": [
    "Initial setup"
   ]
  },
  {
   "cell_type": "code",
   "execution_count": 1,
   "metadata": {},
   "outputs": [],
   "source": [
    "import http_library\n",
    "import csv # library to read/write/parse CSV files\n",
    "from bs4 import BeautifulSoup # web-scraping library\n",
    "\n",
    "acceptMime = 'text/html'\n",
    "cikList = []\n",
    "cikPath = 'cik.txt'\n"
   ]
  },
  {
   "cell_type": "markdown",
   "metadata": {},
   "source": [
    "Open the file containing the list of CIK codes, read them in, and turn them into a list with whitespace stripped"
   ]
  },
  {
   "cell_type": "code",
   "execution_count": 2,
   "metadata": {},
   "outputs": [],
   "source": [
    "cikFileObject = open(cikPath, newline='')\n",
    "cikRows = cikFileObject.readlines()\n",
    "\n",
    "for cik in cikRows:\n",
    "    cikList.append(cik.strip())"
   ]
  },
  {
   "cell_type": "code",
   "execution_count": 4,
   "metadata": {},
   "outputs": [
    {
     "name": "stdout",
     "output_type": "stream",
     "text": [
      "['0001085917', '0000105598', '0000034088']\n"
     ]
    }
   ],
   "source": [
    "print(cikList)"
   ]
  },
  {
   "cell_type": "code",
   "execution_count": null,
   "metadata": {},
   "outputs": [],
   "source": []
  }
 ],
 "metadata": {
  "kernelspec": {
   "display_name": "Python 3",
   "language": "python",
   "name": "python3"
  },
  "language_info": {
   "codemirror_mode": {
    "name": "ipython",
    "version": 3
   },
   "file_extension": ".py",
   "mimetype": "text/x-python",
   "name": "python",
   "nbconvert_exporter": "python",
   "pygments_lexer": "ipython3",
   "version": "3.7.0"
  }
 },
 "nbformat": 4,
 "nbformat_minor": 2
}
