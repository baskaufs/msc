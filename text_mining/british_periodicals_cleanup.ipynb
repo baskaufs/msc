{
 "cells": [
  {
   "cell_type": "code",
   "execution_count": null,
   "metadata": {},
   "outputs": [],
   "source": [
    "from fuzzywuzzy import fuzz # fuzzy logic matching\n",
    "\n",
    "import pandas as pd\n",
    "\n",
    "import nltk\n",
    "from nltk.tokenize import word_tokenize\n",
    "from nltk.tag import pos_tag\n",
    "from nltk import RegexpParser\n",
    "\n",
    "lowercase = 'abcdefghijklmnopqrstuvwxyz'\n",
    "\n",
    "# Load the British Periodicals test dataset\n",
    "test_dataset = pd.read_csv('/Users/baskausj/Downloads/british_periodicals.csv', na_filter=False, dtype = str)\n",
    "\n",
    "# Load the \"2of4brif\" (2 of 4 dictionaries by British publishers) list from http://wordlist.aspell.net/12dicts-readme/#2of4brif\n",
    "dictionary_file = '/Users/baskausj/Downloads/2of4brif.txt'\n",
    "with open(dictionary_file, 'rt', encoding='utf-8') as file_object:\n",
    "    file_text = file_object.read()\n",
    "    british_words = file_text.splitlines()\n",
    "    british_words = ['a'] + british_words # Add the word \"a\", which is not in the dictionary\n",
    "print(len(british_words))\n",
    "print(british_words[:10])"
   ]
  },
  {
   "cell_type": "code",
   "execution_count": null,
   "metadata": {},
   "outputs": [],
   "source": [
    "text_strings = list(test_dataset['text'])\n",
    "test_text = text_strings[3]\n",
    "#print(test_text)\n",
    "\n",
    "tokens = nltk.word_tokenize(test_text) # result is a list\n",
    "print(tokens)\n"
   ]
  },
  {
   "cell_type": "code",
   "execution_count": null,
   "metadata": {},
   "outputs": [],
   "source": [
    "bad_words = []\n",
    "\n",
    "for test_word in tokens:\n",
    "    lcase_word = test_word.lower()\n",
    "    \n",
    "    # Strip leading non-alphabetic characters\n",
    "    if len(lcase_word) > 1:\n",
    "        if not lcase_word[0] in lowercase:\n",
    "            lcase_word = lcase_word[1:]\n",
    "        \n",
    "        # Strip trailing non-alphabetic characters\n",
    "        if len(lcase_word) > 1:\n",
    "            if not lcase_word[-1] in lowercase:\n",
    "                lcase_word = lcase_word[:-1]\n",
    "                \n",
    "    \n",
    "    if not lcase_word in british_words:\n",
    "        if test_word != 'I': # Eliminate i's when first person singular (capitalized)\n",
    "            if not(len(test_word) == 1 and (not test_word in lowercase)): # get rid of single punctuation marks\n",
    "                \n",
    "                # Eliminate numbers\n",
    "                all_nonalphabetic = True\n",
    "                for character in test_word:\n",
    "                    # Flag the word for inclusion if any character is alphabetic\n",
    "                    if character in lowercase:\n",
    "                        all_nonalphabetic = False\n",
    "                if not all_nonalphabetic:\n",
    "                    #print(test_word)\n",
    "                    bad_words.append(test_word)\n",
    "print(bad_words)\n",
    "print('bad words', len(bad_words))\n",
    "print('total tokens', len(tokens), ' ', len(bad_words)/len(tokens))"
   ]
  },
  {
   "cell_type": "code",
   "execution_count": null,
   "metadata": {},
   "outputs": [],
   "source": [
    "count = 0\n",
    "for bad_word in bad_words:\n",
    "    count += 1\n",
    "    print(count, bad_word)\n",
    "    for word in british_words:\n",
    "\n",
    "        ratio = fuzz.ratio(bad_word, word)\n",
    "        #partial_ratio = fuzz.partial_ratio(first_names, first_variants)\n",
    "        #sort_ratio = fuzz.token_sort_ratio(first_names, first_variants)\n",
    "        #set_ratio = fuzz.token_set_ratio(first_names, first_variants)\n",
    "        # print('name similarity ratio', ratio)\n",
    "        #print('partial ratio', partial_ratio)\n",
    "        #print('sort_ratio', sort_ratio)\n",
    "        #print('set_ratio', set_ratio)\n",
    "        if ratio > 88:\n",
    "            print('\\t',ratio, word)\n",
    "    print()\n",
    "    \n",
    "print('done')"
   ]
  },
  {
   "cell_type": "code",
   "execution_count": null,
   "metadata": {},
   "outputs": [],
   "source": [
    "word = 'abc'\n",
    "print(word[:-1])"
   ]
  },
  {
   "cell_type": "code",
   "execution_count": null,
   "metadata": {},
   "outputs": [],
   "source": []
  }
 ],
 "metadata": {
  "kernelspec": {
   "display_name": "Python 3",
   "language": "python",
   "name": "python3"
  },
  "language_info": {
   "codemirror_mode": {
    "name": "ipython",
    "version": 3
   },
   "file_extension": ".py",
   "mimetype": "text/x-python",
   "name": "python",
   "nbconvert_exporter": "python",
   "pygments_lexer": "ipython3",
   "version": "3.8.5"
  }
 },
 "nbformat": 4,
 "nbformat_minor": 4
}
