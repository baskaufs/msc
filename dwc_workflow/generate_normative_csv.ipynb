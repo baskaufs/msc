{
 "cells": [
  {
   "cell_type": "markdown",
   "metadata": {},
   "source": [
    "# Script to generate the Darwin Core \"normative\" CSV document\n",
    "\n",
    "Steve Baskauf 2020-07-08\n",
    "\n",
    "This builds the \"normative document\" CSV file that is used to generate the Quick Reference Guide from the data in the TDWG rs.tdwg.org repo."
   ]
  },
  {
   "cell_type": "code",
   "execution_count": null,
   "metadata": {},
   "outputs": [],
   "source": [
    "# -----------------------------\n",
    "# file import and configuration\n",
    "# -----------------------------\n",
    "\n",
    "import pandas as pd\n",
    "\n",
    "# This is the base URL for raw files from the branch of the repo that has been pushed to GitHub\n",
    "github_baseUri = 'https://raw.githubusercontent.com/tdwg/rs.tdwg.org/dwc-post-mg-meeting/'\n",
    "\n",
    "# This is a Python list of the database names of the term version lists to be included in the document.\n",
    "#term_lists = ['iri']\n",
    "term_lists = ['terms', 'iri', 'dc-for-dwc', 'dcterms-for-dwc', 'curatorial', 'dwcore', 'dwctype', 'geospatial']\n",
    "\n",
    "column_mappings = [\n",
    "    {'norm': 'iri', 'accum': 'version'},\n",
    "    {'norm': 'term_localName', 'accum': 'term_localName'},\n",
    "    {'norm': 'label', 'accum': 'label'},\n",
    "    {'norm': 'definition', 'accum': 'rdfs_comment'},\n",
    "    {'norm': 'comments', 'accum': 'dcterms_description'},\n",
    "    {'norm': 'examples', 'accum': 'examples'},\n",
    "    {'norm': 'organized_in', 'accum': 'tdwgutility_organizedInClass'},\n",
    "    {'norm': 'issued', 'accum': 'version_issued'},\n",
    "    {'norm': 'status', 'accum': 'version_status'},\n",
    "    {'norm': 'replaces', 'accum': 'replaces_version'},\n",
    "    {'norm': 'rdf_type', 'accum': 'rdf_type'},\n",
    "    {'norm': 'term_iri', 'accum': 'term_iri'},\n",
    "    {'norm': 'abcd_equivalence', 'accum': 'tdwgutility_abcdEquivalence'},\n",
    "    {'norm': 'flags', 'accum': 'tdwgutility_usageScope'}\n",
    "]"
   ]
  },
  {
   "cell_type": "markdown",
   "metadata": {},
   "source": [
    "Load the term version data for all of the term lists that are included in Darwin Core (including obsolete ones)"
   ]
  },
  {
   "cell_type": "code",
   "execution_count": null,
   "metadata": {},
   "outputs": [],
   "source": [
    "for term_list_index in range(len(term_lists)):\n",
    "    # retrieve configuration metadata for term list\n",
    "    config_url = github_baseUri + term_lists[term_list_index] + '/constants.csv'\n",
    "    config_df = pd.read_csv(config_url, na_filter=False)\n",
    "    term_namespace = config_df.iloc[0].loc['domainRoot']\n",
    "    print(term_namespace)\n",
    "    \n",
    "    # Retrieve versions metadata for term list\n",
    "    versions_url = github_baseUri + term_lists[term_list_index] + '-versions/' + term_lists[term_list_index] + '-versions.csv'\n",
    "    print(versions_url)\n",
    "    versions_df = pd.read_csv(versions_url, na_filter=False)\n",
    "    \n",
    "    # Add a column for the term IRI by concatenating the term namespace with the local name value for each row\n",
    "    versions_df['term_iri'] = term_namespace + versions_df['term_localName']\n",
    "    \n",
    "    if term_list_index == 0:\n",
    "        # start the DataFrame with the first term list versions data\n",
    "        accumulated_frame = versions_df.copy()\n",
    "    else:\n",
    "        # append subsequent term lists data to the DataFrame\n",
    "        accumulated_frame = accumulated_frame.append(versions_df.copy(), sort=True)\n",
    "        \n",
    "# Special procedure for obsolete terms\n",
    "# Retrieve versions metadata\n",
    "versions_url = github_baseUri + 'dwc-obsolete-versions/dwc-obsolete-versions.csv'\n",
    "print(versions_url)\n",
    "versions_df = pd.read_csv(versions_url, na_filter=False)\n",
    "\n",
    "# Retrieve term/version join data\n",
    "join_url = github_baseUri + 'dwc-obsolete/dwc-obsolete-versions.csv'\n",
    "join_df = pd.read_csv(join_url, na_filter=False)\n",
    "\n",
    "# Find the term IRI for each version and add it to a list\n",
    "term_iri_list = []\n",
    "for row_index,row in versions_df.iterrows():\n",
    "    for join_index,join_row in join_df.iterrows():\n",
    "        # Locate the row in the join data where the version matches the row in the versions DataFrame\n",
    "        if join_row['version'] == row['version']:\n",
    "            term_iri_list.append(join_row['term'])\n",
    "            break\n",
    "'''    \n",
    "    # Locate the row in the join data where the version matches the row in the versions DataFrame\n",
    "    term_iri_row = join_df.loc[join_df['version'] == row['version']]\n",
    "    # Add the current term IRI from the join data row to the list\n",
    "    term_iri_list.append(term_iri_row['term'])\n",
    "'''\n",
    "# Add the curren term IRI list to the DataFrame as the term_iri column\n",
    "versions_df['term_iri'] = term_iri_list\n",
    "# Add the obsolete terms DataFrame to the accumulated DataFrame\n",
    "accumulated_frame = accumulated_frame.append(versions_df.copy(), sort=True)\n",
    "\n",
    "accumulated_frame.reset_index(drop=True, inplace=True) # reset the row indices to consecutive starting with zero\n",
    "accumulated_frame.fillna('', inplace=True) # replace all missing values with empty strings\n",
    "accumulated_frame.head()\n",
    "print('done')"
   ]
  },
  {
   "cell_type": "code",
   "execution_count": null,
   "metadata": {},
   "outputs": [],
   "source": [
    "accumulated_frame.head()"
   ]
  },
  {
   "cell_type": "markdown",
   "metadata": {},
   "source": [
    "Create a list of lists building each row of the normative document"
   ]
  },
  {
   "cell_type": "code",
   "execution_count": null,
   "metadata": {},
   "outputs": [],
   "source": [
    "# Create column header list for the normative document\n",
    "column_headers = []\n",
    "for column_mapping in column_mappings:\n",
    "    # Add the value of the 'norm' key for the column\n",
    "    column_headers.append(column_mapping['norm'])\n",
    "#print(column_headers)\n",
    "\n",
    "# Create the rows of the normative document\n",
    "normative_doc_list = []\n",
    "for row_index,row in accumulated_frame.iterrows():\n",
    "    normative_doc_row = []\n",
    "    for column_mapping in column_mappings:\n",
    "        # Add the value from the accumulation DataFrame column whose name is the value of the 'accum' key for the column\n",
    "        if column_mapping['norm'] == 'replaces':\n",
    "            # concatenate all versions that were replaced; pipe separated\n",
    "            replace_iri = row['replaces_version']\n",
    "            if row['replaces1_version'] != '':\n",
    "                replace_iri += '|' + row['replaces1_version']\n",
    "                if row['replaces2_version'] != '':\n",
    "                    replace_iri += '|' + row['replaces2_version']\n",
    "            normative_doc_row.append(replace_iri)\n",
    "        else:\n",
    "            normative_doc_row.append(row[column_mapping['accum']])\n",
    "    normative_doc_list.append(normative_doc_row)\n",
    "\n",
    "# special handling for http://rs.tdwg.org/dwc/terms/attributes/UseWithIRI. Eventually we want to eliminate this.\n",
    "use_with_iri_row = ['http://rs.tdwg.org/dwc/terms/attributes/UseWithIRI-2017-10-06',\n",
    "  'UseWithIRI',\n",
    "  'UseWithIRI',\n",
    "  'The category of terms that are recommended to have an IRI as a value.',\n",
    "  'A utility class to organize the dwciri: terms.',\n",
    "  '',\n",
    "  'http://www.w3.org/2000/01/rdf-schema#Class',\n",
    "  '2017-10-06',\n",
    "  'recommended',\n",
    "  '',\n",
    "  'http://www.w3.org/2000/01/rdf-schema#Class',\n",
    "  'http://rs.tdwg.org/dwc/terms/attributes/UseWithIRI',\n",
    "  'not in ABCD',\n",
    "  '']\n",
    "normative_doc_list.append(use_with_iri_row)\n",
    "\n",
    "# Turn list of lists into dataframe\n",
    "normative_doc_df = pd.DataFrame(normative_doc_list, columns = column_headers)\n",
    "# Set the row label as the version IRI\n",
    "normative_doc_df.set_index('iri', drop=False, inplace=True)\n",
    "normative_doc_df.index.names = ['row_index']\n",
    "normative_doc_df.to_csv('test.csv', index = False)\n",
    "string1 = normative_doc_df.iloc[571]['term_iri']\n",
    "print('done')\n"
   ]
  },
  {
   "cell_type": "markdown",
   "metadata": {},
   "source": [
    "Order the rows as required for generating the Quick Reference Guide"
   ]
  },
  {
   "cell_type": "code",
   "execution_count": null,
   "metadata": {},
   "outputs": [],
   "source": [
    "# DataFrame to hold built Quick Reference Guide-ordered rows\n",
    "built_rows_df = normative_doc_df.iloc[1:0].copy()\n",
    "\n",
    "# DataFrame to hold remaining rows\n",
    "remaining_rows_df = normative_doc_df.copy()\n",
    "\n",
    "# Load the ordered list of terms in the quick reference guide (single column named recommended_term_iri)\n",
    "qrg_df = pd.read_csv('qrg-list.csv', na_filter=False)\n",
    "for qrg_index,qrg_row in qrg_df.iterrows():\n",
    "    found = False\n",
    "    for row_index,row in normative_doc_df.iterrows():\n",
    "        if (qrg_row['recommended_term_iri'] == row['term_iri']) and (row['status'] == 'recommended'):\n",
    "            found = True\n",
    "            built_rows_df = built_rows_df.append(row)\n",
    "            remaining_rows_df.drop(row['iri'], axis=0, inplace=True)\n",
    "            break\n",
    "    if not found:\n",
    "        print(qrg_row['recommended_term_iri'])\n",
    "\n",
    "# Alphabetize remaining term versions\n",
    "#remaining_rows_df.sort_values(by='iri', inplace=True)\n",
    "sorted_output = remaining_rows_df.iloc[remaining_rows_df.iri.str.lower().argsort()]\n",
    "\n",
    "# Concatenate ordered terms and remaining versions\n",
    "#normative_doc_df = built_rows_df.append(remaining_rows_df)\n",
    "normative_doc_df = built_rows_df.append(sorted_output)\n",
    "\n",
    "print('done')"
   ]
  },
  {
   "cell_type": "code",
   "execution_count": null,
   "metadata": {},
   "outputs": [],
   "source": [
    "# Save the normative document DataFrame as a CSV\n",
    "normative_doc_df.to_csv('generated_normative_document.csv', index = False)\n",
    "\n",
    "normative_doc_df"
   ]
  },
  {
   "cell_type": "code",
   "execution_count": null,
   "metadata": {},
   "outputs": [],
   "source": []
  }
 ],
 "metadata": {
  "kernelspec": {
   "display_name": "Python 3",
   "language": "python",
   "name": "python3"
  },
  "language_info": {
   "codemirror_mode": {
    "name": "ipython",
    "version": 3
   },
   "file_extension": ".py",
   "mimetype": "text/x-python",
   "name": "python",
   "nbconvert_exporter": "python",
   "pygments_lexer": "ipython3",
   "version": "3.7.1"
  }
 },
 "nbformat": 4,
 "nbformat_minor": 2
}
