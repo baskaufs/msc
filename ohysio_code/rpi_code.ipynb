{
 "cells": [
  {
   "cell_type": "code",
   "execution_count": 1,
   "metadata": {},
   "outputs": [
    {
     "name": "stdout",
     "output_type": "stream",
     "text": [
      "2024-02-27 12:52:13.437108\n",
      "2024-02-27\n",
      "0\n",
      "1\n",
      "2\n",
      "3\n",
      "4\n",
      "5\n",
      "6\n",
      "7\n",
      "8\n",
      "9\n",
      "  elapsed_time gsr heart_rate\n",
      "0            3   1          2\n",
      "1         1009   1          2\n",
      "2         2014   1          2\n",
      "3         3021   1          2\n",
      "4         4028   1          2\n",
      "5         5035   1          2\n",
      "6         6038   1          2\n",
      "7         7046   1          2\n",
      "8         8057   1          2\n",
      "9         9065   1          2\n"
     ]
    }
   ],
   "source": [
    "import pandas as pd\n",
    "\n",
    "import datetime\n",
    "from time import sleep\n",
    "\n",
    "nothing = input(\"Press Enter to start...\")\n",
    "\n",
    "current_time = datetime.datetime.now()\n",
    "print(current_time)\n",
    "\n",
    "# Extract the date as an iso_date\n",
    "iso_date = current_time.date().isoformat()\n",
    "print(iso_date)\n",
    "\n",
    "# Extract the elapsed time rounded to nearest millisecond\n",
    "\n",
    "elapsed_time = (datetime.datetime.now() - current_time).total_seconds() * 1000\n",
    "elapsed_time_ms = int(round(elapsed_time, 0))\n",
    "\n",
    "# Create a dataframe with columns elapsed_time, gsr, and heart_rate\n",
    "data_df = pd.DataFrame(columns=['elapsed_time', 'gsr', 'heart_rate'])\n",
    "\n",
    "for count in range(10):\n",
    "    print(count)\n",
    "    # Create a dict to hold the data\n",
    "    data = {}\n",
    "    elapsed_time = (datetime.datetime.now() - current_time).total_seconds() * 1000\n",
    "    elapsed_time_ms = int(round(elapsed_time, 0))\n",
    "\n",
    "    # Add the elapsed time to the dict\n",
    "    data['elapsed_time'] = elapsed_time_ms\n",
    "\n",
    "    # simulate recording\n",
    "    sleep(1)\n",
    "    gsr = 1\n",
    "    heart_rate = 2\n",
    "\n",
    "    # Add the gsr and heart_rate to the dict\n",
    "    data['gsr'] = gsr\n",
    "    data['heart_rate'] = heart_rate\n",
    "\n",
    "    # Append the dict to the dataframe\n",
    "    data_df = data_df.append(data, ignore_index=True)\n",
    "\n",
    "print(data_df)\n",
    "\n",
    "# Save the dataframe to a csv file\n",
    "data_df.to_csv('physio.csv', index=False)\n",
    "\n",
    "\n",
    "\n",
    "\n",
    "\n",
    " "
   ]
  }
 ],
 "metadata": {
  "kernelspec": {
   "display_name": "base",
   "language": "python",
   "name": "python3"
  },
  "language_info": {
   "codemirror_mode": {
    "name": "ipython",
    "version": 3
   },
   "file_extension": ".py",
   "mimetype": "text/x-python",
   "name": "python",
   "nbconvert_exporter": "python",
   "pygments_lexer": "ipython3",
   "version": "3.8.5"
  }
 },
 "nbformat": 4,
 "nbformat_minor": 2
}
